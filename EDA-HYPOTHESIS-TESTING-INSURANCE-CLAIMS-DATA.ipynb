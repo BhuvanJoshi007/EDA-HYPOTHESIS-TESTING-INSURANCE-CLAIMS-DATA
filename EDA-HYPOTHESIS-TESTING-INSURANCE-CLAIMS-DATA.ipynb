{
 "cells": [
  {
   "cell_type": "code",
   "execution_count": 1,
   "id": "ffdd7daf",
   "metadata": {},
   "outputs": [],
   "source": [
    "import pandas as pd\n",
    "import numpy as np\n",
    "import matplotlib.pyplot as plt\n",
    "import datetime as dt\n",
    "import seaborn as sns\n",
    "%matplotlib inline"
   ]
  },
  {
   "cell_type": "code",
   "execution_count": 2,
   "id": "6e735ce4",
   "metadata": {},
   "outputs": [],
   "source": [
    "source = 'E:/Analytics Labs/python_CaseStudy/Python Foundation Case Study 3 - Insurance Claims Case Study/'\n",
    "claims_data = pd.read_csv(source+'claims.csv')\n",
    "cust_data = pd.read_csv(source+'cust_demographics.csv')"
   ]
  },
  {
   "cell_type": "code",
   "execution_count": 3,
   "id": "2d1c6e0f",
   "metadata": {},
   "outputs": [
    {
     "data": {
      "text/html": [
       "<div>\n",
       "<style scoped>\n",
       "    .dataframe tbody tr th:only-of-type {\n",
       "        vertical-align: middle;\n",
       "    }\n",
       "\n",
       "    .dataframe tbody tr th {\n",
       "        vertical-align: top;\n",
       "    }\n",
       "\n",
       "    .dataframe thead th {\n",
       "        text-align: right;\n",
       "    }\n",
       "</style>\n",
       "<table border=\"1\" class=\"dataframe\">\n",
       "  <thead>\n",
       "    <tr style=\"text-align: right;\">\n",
       "      <th></th>\n",
       "      <th>claim_id</th>\n",
       "      <th>customer_id</th>\n",
       "      <th>incident_cause</th>\n",
       "      <th>claim_date</th>\n",
       "      <th>claim_area</th>\n",
       "      <th>police_report</th>\n",
       "      <th>claim_type</th>\n",
       "      <th>claim_amount</th>\n",
       "      <th>total_policy_claims</th>\n",
       "      <th>fraudulent</th>\n",
       "    </tr>\n",
       "  </thead>\n",
       "  <tbody>\n",
       "    <tr>\n",
       "      <th>0</th>\n",
       "      <td>54004764</td>\n",
       "      <td>21868593</td>\n",
       "      <td>Driver error</td>\n",
       "      <td>11/27/2017</td>\n",
       "      <td>Auto</td>\n",
       "      <td>No</td>\n",
       "      <td>Material only</td>\n",
       "      <td>$2980</td>\n",
       "      <td>1.0</td>\n",
       "      <td>No</td>\n",
       "    </tr>\n",
       "    <tr>\n",
       "      <th>1</th>\n",
       "      <td>33985796</td>\n",
       "      <td>75740424</td>\n",
       "      <td>Crime</td>\n",
       "      <td>10/03/2018</td>\n",
       "      <td>Home</td>\n",
       "      <td>Unknown</td>\n",
       "      <td>Material only</td>\n",
       "      <td>$2980</td>\n",
       "      <td>3.0</td>\n",
       "      <td>No</td>\n",
       "    </tr>\n",
       "  </tbody>\n",
       "</table>\n",
       "</div>"
      ],
      "text/plain": [
       "   claim_id  customer_id incident_cause  claim_date claim_area police_report  \\\n",
       "0  54004764     21868593   Driver error  11/27/2017       Auto            No   \n",
       "1  33985796     75740424          Crime  10/03/2018       Home       Unknown   \n",
       "\n",
       "      claim_type claim_amount  total_policy_claims fraudulent  \n",
       "0  Material only        $2980                  1.0         No  \n",
       "1  Material only        $2980                  3.0         No  "
      ]
     },
     "execution_count": 3,
     "metadata": {},
     "output_type": "execute_result"
    }
   ],
   "source": [
    "claims_data.head(2)"
   ]
  },
  {
   "cell_type": "code",
   "execution_count": 4,
   "id": "786a47fe",
   "metadata": {},
   "outputs": [
    {
     "name": "stdout",
     "output_type": "stream",
     "text": [
      "<class 'pandas.core.frame.DataFrame'>\n",
      "RangeIndex: 1100 entries, 0 to 1099\n",
      "Data columns (total 10 columns):\n",
      " #   Column               Non-Null Count  Dtype  \n",
      "---  ------               --------------  -----  \n",
      " 0   claim_id             1100 non-null   int64  \n",
      " 1   customer_id          1100 non-null   int64  \n",
      " 2   incident_cause       1100 non-null   object \n",
      " 3   claim_date           1100 non-null   object \n",
      " 4   claim_area           1100 non-null   object \n",
      " 5   police_report        1100 non-null   object \n",
      " 6   claim_type           1100 non-null   object \n",
      " 7   claim_amount         1035 non-null   object \n",
      " 8   total_policy_claims  1090 non-null   float64\n",
      " 9   fraudulent           1100 non-null   object \n",
      "dtypes: float64(1), int64(2), object(7)\n",
      "memory usage: 86.1+ KB\n"
     ]
    }
   ],
   "source": [
    "claims_data.info()"
   ]
  },
  {
   "cell_type": "code",
   "execution_count": 5,
   "id": "164e52b3",
   "metadata": {},
   "outputs": [
    {
     "data": {
      "text/plain": [
       "claim_id               1100\n",
       "customer_id            1093\n",
       "incident_cause            5\n",
       "claim_date              100\n",
       "claim_area                2\n",
       "police_report             3\n",
       "claim_type                3\n",
       "claim_amount            683\n",
       "total_policy_claims       8\n",
       "fraudulent                2\n",
       "dtype: int64"
      ]
     },
     "execution_count": 5,
     "metadata": {},
     "output_type": "execute_result"
    }
   ],
   "source": [
    "claims_data.nunique()"
   ]
  },
  {
   "cell_type": "code",
   "execution_count": 6,
   "id": "f4c330bb",
   "metadata": {},
   "outputs": [
    {
     "name": "stdout",
     "output_type": "stream",
     "text": [
      "<class 'pandas.core.frame.DataFrame'>\n",
      "RangeIndex: 1085 entries, 0 to 1084\n",
      "Data columns (total 6 columns):\n",
      " #   Column       Non-Null Count  Dtype \n",
      "---  ------       --------------  ----- \n",
      " 0   CUST_ID      1085 non-null   int64 \n",
      " 1   gender       1085 non-null   object\n",
      " 2   DateOfBirth  1085 non-null   object\n",
      " 3   State        1085 non-null   object\n",
      " 4   Contact      1085 non-null   object\n",
      " 5   Segment      1085 non-null   object\n",
      "dtypes: int64(1), object(5)\n",
      "memory usage: 51.0+ KB\n"
     ]
    }
   ],
   "source": [
    "cust_data.info()"
   ]
  },
  {
   "cell_type": "code",
   "execution_count": 7,
   "id": "5bd3502e",
   "metadata": {},
   "outputs": [
    {
     "data": {
      "text/html": [
       "<div>\n",
       "<style scoped>\n",
       "    .dataframe tbody tr th:only-of-type {\n",
       "        vertical-align: middle;\n",
       "    }\n",
       "\n",
       "    .dataframe tbody tr th {\n",
       "        vertical-align: top;\n",
       "    }\n",
       "\n",
       "    .dataframe thead th {\n",
       "        text-align: right;\n",
       "    }\n",
       "</style>\n",
       "<table border=\"1\" class=\"dataframe\">\n",
       "  <thead>\n",
       "    <tr style=\"text-align: right;\">\n",
       "      <th></th>\n",
       "      <th>CUST_ID</th>\n",
       "      <th>gender</th>\n",
       "      <th>DateOfBirth</th>\n",
       "      <th>State</th>\n",
       "      <th>Contact</th>\n",
       "      <th>Segment</th>\n",
       "    </tr>\n",
       "  </thead>\n",
       "  <tbody>\n",
       "    <tr>\n",
       "      <th>0</th>\n",
       "      <td>21868593</td>\n",
       "      <td>Female</td>\n",
       "      <td>12-Jan-79</td>\n",
       "      <td>VT</td>\n",
       "      <td>789-916-8172</td>\n",
       "      <td>Platinum</td>\n",
       "    </tr>\n",
       "    <tr>\n",
       "      <th>1</th>\n",
       "      <td>75740424</td>\n",
       "      <td>Female</td>\n",
       "      <td>13-Jan-70</td>\n",
       "      <td>ME</td>\n",
       "      <td>265-543-1264</td>\n",
       "      <td>Silver</td>\n",
       "    </tr>\n",
       "  </tbody>\n",
       "</table>\n",
       "</div>"
      ],
      "text/plain": [
       "    CUST_ID  gender DateOfBirth State       Contact   Segment\n",
       "0  21868593  Female   12-Jan-79    VT  789-916-8172  Platinum\n",
       "1  75740424  Female   13-Jan-70    ME  265-543-1264    Silver"
      ]
     },
     "execution_count": 7,
     "metadata": {},
     "output_type": "execute_result"
    }
   ],
   "source": [
    "cust_data.head(2)"
   ]
  },
  {
   "cell_type": "code",
   "execution_count": 8,
   "id": "6b419423",
   "metadata": {},
   "outputs": [
    {
     "data": {
      "text/plain": [
       "CUST_ID        1085\n",
       "gender            2\n",
       "DateOfBirth    1085\n",
       "State            50\n",
       "Contact        1085\n",
       "Segment           3\n",
       "dtype: int64"
      ]
     },
     "execution_count": 8,
     "metadata": {},
     "output_type": "execute_result"
    }
   ],
   "source": [
    "cust_data.nunique()"
   ]
  },
  {
   "cell_type": "code",
   "execution_count": 9,
   "id": "4c80f06f",
   "metadata": {},
   "outputs": [],
   "source": [
    "#claims_data['claim_amount'] = claims_data['claim_amount'].astype(float)"
   ]
  },
  {
   "cell_type": "code",
   "execution_count": 10,
   "id": "089c13ca",
   "metadata": {},
   "outputs": [],
   "source": [
    "# claims_data.info()"
   ]
  },
  {
   "cell_type": "markdown",
   "id": "5fd61416",
   "metadata": {},
   "source": [
    "### 1. Import claims_data.csv and cust_data.csv which is provided to you and combine the two datasets appropriately to create a 360-degree view of the data. Use the same for the subsequent questions."
   ]
  },
  {
   "cell_type": "code",
   "execution_count": 11,
   "id": "48e0093e",
   "metadata": {},
   "outputs": [
    {
     "data": {
      "text/html": [
       "<div>\n",
       "<style scoped>\n",
       "    .dataframe tbody tr th:only-of-type {\n",
       "        vertical-align: middle;\n",
       "    }\n",
       "\n",
       "    .dataframe tbody tr th {\n",
       "        vertical-align: top;\n",
       "    }\n",
       "\n",
       "    .dataframe thead th {\n",
       "        text-align: right;\n",
       "    }\n",
       "</style>\n",
       "<table border=\"1\" class=\"dataframe\">\n",
       "  <thead>\n",
       "    <tr style=\"text-align: right;\">\n",
       "      <th></th>\n",
       "      <th>CUST_ID</th>\n",
       "      <th>gender</th>\n",
       "      <th>DateOfBirth</th>\n",
       "      <th>State</th>\n",
       "      <th>Contact</th>\n",
       "      <th>Segment</th>\n",
       "      <th>claim_id</th>\n",
       "      <th>incident_cause</th>\n",
       "      <th>claim_date</th>\n",
       "      <th>claim_area</th>\n",
       "      <th>police_report</th>\n",
       "      <th>claim_type</th>\n",
       "      <th>claim_amount</th>\n",
       "      <th>total_policy_claims</th>\n",
       "      <th>fraudulent</th>\n",
       "    </tr>\n",
       "  </thead>\n",
       "  <tbody>\n",
       "    <tr>\n",
       "      <th>0</th>\n",
       "      <td>21868593</td>\n",
       "      <td>Female</td>\n",
       "      <td>12-Jan-79</td>\n",
       "      <td>VT</td>\n",
       "      <td>789-916-8172</td>\n",
       "      <td>Platinum</td>\n",
       "      <td>54004764</td>\n",
       "      <td>Driver error</td>\n",
       "      <td>11/27/2017</td>\n",
       "      <td>Auto</td>\n",
       "      <td>No</td>\n",
       "      <td>Material only</td>\n",
       "      <td>$2980</td>\n",
       "      <td>1.0</td>\n",
       "      <td>No</td>\n",
       "    </tr>\n",
       "    <tr>\n",
       "      <th>1</th>\n",
       "      <td>75740424</td>\n",
       "      <td>Female</td>\n",
       "      <td>13-Jan-70</td>\n",
       "      <td>ME</td>\n",
       "      <td>265-543-1264</td>\n",
       "      <td>Silver</td>\n",
       "      <td>33985796</td>\n",
       "      <td>Crime</td>\n",
       "      <td>10/03/2018</td>\n",
       "      <td>Home</td>\n",
       "      <td>Unknown</td>\n",
       "      <td>Material only</td>\n",
       "      <td>$2980</td>\n",
       "      <td>3.0</td>\n",
       "      <td>No</td>\n",
       "    </tr>\n",
       "  </tbody>\n",
       "</table>\n",
       "</div>"
      ],
      "text/plain": [
       "    CUST_ID  gender DateOfBirth State       Contact   Segment  claim_id  \\\n",
       "0  21868593  Female   12-Jan-79    VT  789-916-8172  Platinum  54004764   \n",
       "1  75740424  Female   13-Jan-70    ME  265-543-1264    Silver  33985796   \n",
       "\n",
       "  incident_cause  claim_date claim_area police_report     claim_type  \\\n",
       "0   Driver error  11/27/2017       Auto            No  Material only   \n",
       "1          Crime  10/03/2018       Home       Unknown  Material only   \n",
       "\n",
       "  claim_amount  total_policy_claims fraudulent  \n",
       "0        $2980                  1.0         No  \n",
       "1        $2980                  3.0         No  "
      ]
     },
     "execution_count": 11,
     "metadata": {},
     "output_type": "execute_result"
    }
   ],
   "source": [
    "cust_claim = pd.merge(right = claims_data,\n",
    "                   left = cust_data, \n",
    "                   right_on = \"customer_id\", \n",
    "                   left_on = \"CUST_ID\",\n",
    "                   how = \"inner\"\n",
    "                  )\n",
    "cust_claim.drop(columns = [\"customer_id\"], inplace = True)\n",
    "cust_claim.head(2)"
   ]
  },
  {
   "cell_type": "code",
   "execution_count": 12,
   "id": "0269e225",
   "metadata": {},
   "outputs": [
    {
     "name": "stdout",
     "output_type": "stream",
     "text": [
      "<class 'pandas.core.frame.DataFrame'>\n",
      "Int64Index: 1085 entries, 0 to 1084\n",
      "Data columns (total 15 columns):\n",
      " #   Column               Non-Null Count  Dtype  \n",
      "---  ------               --------------  -----  \n",
      " 0   CUST_ID              1085 non-null   int64  \n",
      " 1   gender               1085 non-null   object \n",
      " 2   DateOfBirth          1085 non-null   object \n",
      " 3   State                1085 non-null   object \n",
      " 4   Contact              1085 non-null   object \n",
      " 5   Segment              1085 non-null   object \n",
      " 6   claim_id             1085 non-null   int64  \n",
      " 7   incident_cause       1085 non-null   object \n",
      " 8   claim_date           1085 non-null   object \n",
      " 9   claim_area           1085 non-null   object \n",
      " 10  police_report        1085 non-null   object \n",
      " 11  claim_type           1085 non-null   object \n",
      " 12  claim_amount         1020 non-null   object \n",
      " 13  total_policy_claims  1075 non-null   float64\n",
      " 14  fraudulent           1085 non-null   object \n",
      "dtypes: float64(1), int64(2), object(12)\n",
      "memory usage: 135.6+ KB\n"
     ]
    }
   ],
   "source": [
    "cust_claim.info()"
   ]
  },
  {
   "cell_type": "markdown",
   "id": "94d2ff8c",
   "metadata": {},
   "source": [
    "### 2. Perform a data audit for the datatypes and find out if there are any mismatch within the current datatypes of the columns and their business significance."
   ]
  },
  {
   "cell_type": "code",
   "execution_count": 13,
   "id": "ed8e4300",
   "metadata": {},
   "outputs": [],
   "source": [
    "cust_claim.DateOfBirth = pd.to_datetime(cust_claim.DateOfBirth)\n",
    "cust_claim.claim_date = pd.to_datetime(cust_claim.claim_date)"
   ]
  },
  {
   "cell_type": "code",
   "execution_count": 14,
   "id": "5ee19bb0",
   "metadata": {},
   "outputs": [
    {
     "data": {
      "text/plain": [
       "Timestamp('2071-12-27 00:00:00')"
      ]
     },
     "execution_count": 14,
     "metadata": {},
     "output_type": "execute_result"
    }
   ],
   "source": [
    "cust_claim.DateOfBirth.max()"
   ]
  },
  {
   "cell_type": "code",
   "execution_count": 15,
   "id": "961fe981",
   "metadata": {},
   "outputs": [],
   "source": [
    "# Since the date of birth cannot be more than 2020\n",
    "cust_claim.loc[(cust_claim.DateOfBirth.dt.year > 2020),\"DateOfBirth\"]=cust_claim[cust_claim.DateOfBirth.dt.year > 2020][\"DateOfBirth\"].apply(lambda x: x - pd.DateOffset(years=100))"
   ]
  },
  {
   "cell_type": "code",
   "execution_count": 16,
   "id": "fc882096",
   "metadata": {},
   "outputs": [
    {
     "data": {
      "text/plain": [
       "Timestamp('1999-12-27 00:00:00')"
      ]
     },
     "execution_count": 16,
     "metadata": {},
     "output_type": "execute_result"
    }
   ],
   "source": [
    "cust_claim.DateOfBirth.max()"
   ]
  },
  {
   "cell_type": "markdown",
   "id": "d064f27b",
   "metadata": {},
   "source": [
    "### 3. Convert the column claim_amount to numeric. Use the appropriate modules/attributes to remove the $ sign.\n"
   ]
  },
  {
   "cell_type": "code",
   "execution_count": 17,
   "id": "57b95fd1",
   "metadata": {},
   "outputs": [
    {
     "name": "stderr",
     "output_type": "stream",
     "text": [
      "<ipython-input-17-3302ac6e7920>:1: FutureWarning: The default value of regex will change from True to False in a future version. In addition, single character regular expressions will*not* be treated as literal strings when regex=True.\n",
      "  cust_claim['claim_amount'] = cust_claim['claim_amount'].str.replace('$', '')\n"
     ]
    }
   ],
   "source": [
    "cust_claim['claim_amount'] = cust_claim['claim_amount'].str.replace('$', '')\n",
    "cust_claim['claim_amount'] = cust_claim['claim_amount'].astype(float)"
   ]
  },
  {
   "cell_type": "code",
   "execution_count": 18,
   "id": "7c7e119d",
   "metadata": {},
   "outputs": [
    {
     "name": "stdout",
     "output_type": "stream",
     "text": [
      "<class 'pandas.core.frame.DataFrame'>\n",
      "Int64Index: 1085 entries, 0 to 1084\n",
      "Data columns (total 15 columns):\n",
      " #   Column               Non-Null Count  Dtype         \n",
      "---  ------               --------------  -----         \n",
      " 0   CUST_ID              1085 non-null   int64         \n",
      " 1   gender               1085 non-null   object        \n",
      " 2   DateOfBirth          1085 non-null   datetime64[ns]\n",
      " 3   State                1085 non-null   object        \n",
      " 4   Contact              1085 non-null   object        \n",
      " 5   Segment              1085 non-null   object        \n",
      " 6   claim_id             1085 non-null   int64         \n",
      " 7   incident_cause       1085 non-null   object        \n",
      " 8   claim_date           1085 non-null   datetime64[ns]\n",
      " 9   claim_area           1085 non-null   object        \n",
      " 10  police_report        1085 non-null   object        \n",
      " 11  claim_type           1085 non-null   object        \n",
      " 12  claim_amount         1020 non-null   float64       \n",
      " 13  total_policy_claims  1075 non-null   float64       \n",
      " 14  fraudulent           1085 non-null   object        \n",
      "dtypes: datetime64[ns](2), float64(2), int64(2), object(9)\n",
      "memory usage: 135.6+ KB\n"
     ]
    }
   ],
   "source": [
    "cust_claim.info()"
   ]
  },
  {
   "cell_type": "markdown",
   "id": "53fa17c3",
   "metadata": {},
   "source": [
    "### 4. Of all the injury claims, some of them have gone unreported with the police. Create an alert flag (1,0) for all such claims."
   ]
  },
  {
   "cell_type": "code",
   "execution_count": 19,
   "id": "2d3c9956",
   "metadata": {},
   "outputs": [
    {
     "data": {
      "text/plain": [
       "No         621\n",
       "Unknown    296\n",
       "Yes        168\n",
       "Name: police_report, dtype: int64"
      ]
     },
     "execution_count": 19,
     "metadata": {},
     "output_type": "execute_result"
    }
   ],
   "source": [
    "cust_claim.police_report.value_counts()"
   ]
  },
  {
   "cell_type": "code",
   "execution_count": 20,
   "id": "075cc036",
   "metadata": {
    "scrolled": true
   },
   "outputs": [],
   "source": [
    "cust_claim[\"flag\"] = np.where(cust_claim.police_report == \"No\", 0 ,np.where(cust_claim.police_report == \"Yes\", 1, np.nan))\n",
    "cust_claim.drop(columns = [\"police_report\"], inplace = True)"
   ]
  },
  {
   "cell_type": "code",
   "execution_count": 21,
   "id": "610089da",
   "metadata": {},
   "outputs": [
    {
     "data": {
      "text/html": [
       "<div>\n",
       "<style scoped>\n",
       "    .dataframe tbody tr th:only-of-type {\n",
       "        vertical-align: middle;\n",
       "    }\n",
       "\n",
       "    .dataframe tbody tr th {\n",
       "        vertical-align: top;\n",
       "    }\n",
       "\n",
       "    .dataframe thead th {\n",
       "        text-align: right;\n",
       "    }\n",
       "</style>\n",
       "<table border=\"1\" class=\"dataframe\">\n",
       "  <thead>\n",
       "    <tr style=\"text-align: right;\">\n",
       "      <th></th>\n",
       "      <th>CUST_ID</th>\n",
       "      <th>gender</th>\n",
       "      <th>DateOfBirth</th>\n",
       "      <th>State</th>\n",
       "      <th>Contact</th>\n",
       "      <th>Segment</th>\n",
       "      <th>claim_id</th>\n",
       "      <th>incident_cause</th>\n",
       "      <th>claim_date</th>\n",
       "      <th>claim_area</th>\n",
       "      <th>claim_type</th>\n",
       "      <th>claim_amount</th>\n",
       "      <th>total_policy_claims</th>\n",
       "      <th>fraudulent</th>\n",
       "      <th>flag</th>\n",
       "    </tr>\n",
       "  </thead>\n",
       "  <tbody>\n",
       "    <tr>\n",
       "      <th>0</th>\n",
       "      <td>21868593</td>\n",
       "      <td>Female</td>\n",
       "      <td>1979-01-12</td>\n",
       "      <td>VT</td>\n",
       "      <td>789-916-8172</td>\n",
       "      <td>Platinum</td>\n",
       "      <td>54004764</td>\n",
       "      <td>Driver error</td>\n",
       "      <td>2017-11-27</td>\n",
       "      <td>Auto</td>\n",
       "      <td>Material only</td>\n",
       "      <td>2980.0</td>\n",
       "      <td>1.0</td>\n",
       "      <td>No</td>\n",
       "      <td>0.0</td>\n",
       "    </tr>\n",
       "    <tr>\n",
       "      <th>1</th>\n",
       "      <td>75740424</td>\n",
       "      <td>Female</td>\n",
       "      <td>1970-01-13</td>\n",
       "      <td>ME</td>\n",
       "      <td>265-543-1264</td>\n",
       "      <td>Silver</td>\n",
       "      <td>33985796</td>\n",
       "      <td>Crime</td>\n",
       "      <td>2018-10-03</td>\n",
       "      <td>Home</td>\n",
       "      <td>Material only</td>\n",
       "      <td>2980.0</td>\n",
       "      <td>3.0</td>\n",
       "      <td>No</td>\n",
       "      <td>NaN</td>\n",
       "    </tr>\n",
       "    <tr>\n",
       "      <th>2</th>\n",
       "      <td>30308357</td>\n",
       "      <td>Female</td>\n",
       "      <td>1984-03-11</td>\n",
       "      <td>TN</td>\n",
       "      <td>798-631-4758</td>\n",
       "      <td>Silver</td>\n",
       "      <td>53522022</td>\n",
       "      <td>Other driver error</td>\n",
       "      <td>2018-02-02</td>\n",
       "      <td>Auto</td>\n",
       "      <td>Material only</td>\n",
       "      <td>3369.5</td>\n",
       "      <td>1.0</td>\n",
       "      <td>Yes</td>\n",
       "      <td>0.0</td>\n",
       "    </tr>\n",
       "    <tr>\n",
       "      <th>3</th>\n",
       "      <td>30308357</td>\n",
       "      <td>Female</td>\n",
       "      <td>1984-03-11</td>\n",
       "      <td>TN</td>\n",
       "      <td>798-631-4758</td>\n",
       "      <td>Silver</td>\n",
       "      <td>63017412</td>\n",
       "      <td>Driver error</td>\n",
       "      <td>2018-04-04</td>\n",
       "      <td>Auto</td>\n",
       "      <td>Material only</td>\n",
       "      <td>1950.0</td>\n",
       "      <td>6.0</td>\n",
       "      <td>No</td>\n",
       "      <td>0.0</td>\n",
       "    </tr>\n",
       "    <tr>\n",
       "      <th>4</th>\n",
       "      <td>47830476</td>\n",
       "      <td>Female</td>\n",
       "      <td>1986-05-01</td>\n",
       "      <td>MA</td>\n",
       "      <td>413-187-7945</td>\n",
       "      <td>Silver</td>\n",
       "      <td>13015401</td>\n",
       "      <td>Natural causes</td>\n",
       "      <td>2018-06-17</td>\n",
       "      <td>Auto</td>\n",
       "      <td>Material only</td>\n",
       "      <td>1680.0</td>\n",
       "      <td>1.0</td>\n",
       "      <td>No</td>\n",
       "      <td>0.0</td>\n",
       "    </tr>\n",
       "    <tr>\n",
       "      <th>...</th>\n",
       "      <td>...</td>\n",
       "      <td>...</td>\n",
       "      <td>...</td>\n",
       "      <td>...</td>\n",
       "      <td>...</td>\n",
       "      <td>...</td>\n",
       "      <td>...</td>\n",
       "      <td>...</td>\n",
       "      <td>...</td>\n",
       "      <td>...</td>\n",
       "      <td>...</td>\n",
       "      <td>...</td>\n",
       "      <td>...</td>\n",
       "      <td>...</td>\n",
       "      <td>...</td>\n",
       "    </tr>\n",
       "    <tr>\n",
       "      <th>1080</th>\n",
       "      <td>79539873</td>\n",
       "      <td>Female</td>\n",
       "      <td>1981-03-15</td>\n",
       "      <td>ND</td>\n",
       "      <td>459-425-4319</td>\n",
       "      <td>Platinum</td>\n",
       "      <td>62020796</td>\n",
       "      <td>Other driver error</td>\n",
       "      <td>2018-09-06</td>\n",
       "      <td>Auto</td>\n",
       "      <td>Material only</td>\n",
       "      <td>1770.0</td>\n",
       "      <td>1.0</td>\n",
       "      <td>No</td>\n",
       "      <td>1.0</td>\n",
       "    </tr>\n",
       "    <tr>\n",
       "      <th>1081</th>\n",
       "      <td>42364152</td>\n",
       "      <td>Female</td>\n",
       "      <td>1996-07-07</td>\n",
       "      <td>ID</td>\n",
       "      <td>529-462-1635</td>\n",
       "      <td>Silver</td>\n",
       "      <td>63269067</td>\n",
       "      <td>Other causes</td>\n",
       "      <td>2017-05-09</td>\n",
       "      <td>Home</td>\n",
       "      <td>Material only</td>\n",
       "      <td>2800.0</td>\n",
       "      <td>1.0</td>\n",
       "      <td>No</td>\n",
       "      <td>0.0</td>\n",
       "    </tr>\n",
       "    <tr>\n",
       "      <th>1082</th>\n",
       "      <td>19888166</td>\n",
       "      <td>Male</td>\n",
       "      <td>1990-04-11</td>\n",
       "      <td>WI</td>\n",
       "      <td>712-651-9613</td>\n",
       "      <td>Gold</td>\n",
       "      <td>22690595</td>\n",
       "      <td>Other driver error</td>\n",
       "      <td>2017-05-15</td>\n",
       "      <td>Auto</td>\n",
       "      <td>Injury only</td>\n",
       "      <td>33080.0</td>\n",
       "      <td>2.0</td>\n",
       "      <td>No</td>\n",
       "      <td>1.0</td>\n",
       "    </tr>\n",
       "    <tr>\n",
       "      <th>1083</th>\n",
       "      <td>11256802</td>\n",
       "      <td>Female</td>\n",
       "      <td>1964-10-22</td>\n",
       "      <td>LA</td>\n",
       "      <td>469-345-5617</td>\n",
       "      <td>Silver</td>\n",
       "      <td>12376894</td>\n",
       "      <td>Other driver error</td>\n",
       "      <td>2017-04-18</td>\n",
       "      <td>Auto</td>\n",
       "      <td>Material only</td>\n",
       "      <td>2840.0</td>\n",
       "      <td>4.0</td>\n",
       "      <td>No</td>\n",
       "      <td>0.0</td>\n",
       "    </tr>\n",
       "    <tr>\n",
       "      <th>1084</th>\n",
       "      <td>61575264</td>\n",
       "      <td>Male</td>\n",
       "      <td>1995-07-12</td>\n",
       "      <td>WY</td>\n",
       "      <td>182-385-1392</td>\n",
       "      <td>Gold</td>\n",
       "      <td>63226031</td>\n",
       "      <td>Natural causes</td>\n",
       "      <td>2017-03-16</td>\n",
       "      <td>Auto</td>\n",
       "      <td>Material only</td>\n",
       "      <td>1490.0</td>\n",
       "      <td>1.0</td>\n",
       "      <td>No</td>\n",
       "      <td>0.0</td>\n",
       "    </tr>\n",
       "  </tbody>\n",
       "</table>\n",
       "<p>1085 rows × 15 columns</p>\n",
       "</div>"
      ],
      "text/plain": [
       "       CUST_ID  gender DateOfBirth State       Contact   Segment  claim_id  \\\n",
       "0     21868593  Female  1979-01-12    VT  789-916-8172  Platinum  54004764   \n",
       "1     75740424  Female  1970-01-13    ME  265-543-1264    Silver  33985796   \n",
       "2     30308357  Female  1984-03-11    TN  798-631-4758    Silver  53522022   \n",
       "3     30308357  Female  1984-03-11    TN  798-631-4758    Silver  63017412   \n",
       "4     47830476  Female  1986-05-01    MA  413-187-7945    Silver  13015401   \n",
       "...        ...     ...         ...   ...           ...       ...       ...   \n",
       "1080  79539873  Female  1981-03-15    ND  459-425-4319  Platinum  62020796   \n",
       "1081  42364152  Female  1996-07-07    ID  529-462-1635    Silver  63269067   \n",
       "1082  19888166    Male  1990-04-11    WI  712-651-9613      Gold  22690595   \n",
       "1083  11256802  Female  1964-10-22    LA  469-345-5617    Silver  12376894   \n",
       "1084  61575264    Male  1995-07-12    WY  182-385-1392      Gold  63226031   \n",
       "\n",
       "          incident_cause claim_date claim_area     claim_type  claim_amount  \\\n",
       "0           Driver error 2017-11-27       Auto  Material only        2980.0   \n",
       "1                  Crime 2018-10-03       Home  Material only        2980.0   \n",
       "2     Other driver error 2018-02-02       Auto  Material only        3369.5   \n",
       "3           Driver error 2018-04-04       Auto  Material only        1950.0   \n",
       "4         Natural causes 2018-06-17       Auto  Material only        1680.0   \n",
       "...                  ...        ...        ...            ...           ...   \n",
       "1080  Other driver error 2018-09-06       Auto  Material only        1770.0   \n",
       "1081        Other causes 2017-05-09       Home  Material only        2800.0   \n",
       "1082  Other driver error 2017-05-15       Auto    Injury only       33080.0   \n",
       "1083  Other driver error 2017-04-18       Auto  Material only        2840.0   \n",
       "1084      Natural causes 2017-03-16       Auto  Material only        1490.0   \n",
       "\n",
       "      total_policy_claims fraudulent  flag  \n",
       "0                     1.0         No   0.0  \n",
       "1                     3.0         No   NaN  \n",
       "2                     1.0        Yes   0.0  \n",
       "3                     6.0         No   0.0  \n",
       "4                     1.0         No   0.0  \n",
       "...                   ...        ...   ...  \n",
       "1080                  1.0         No   1.0  \n",
       "1081                  1.0         No   0.0  \n",
       "1082                  2.0         No   1.0  \n",
       "1083                  4.0         No   0.0  \n",
       "1084                  1.0         No   0.0  \n",
       "\n",
       "[1085 rows x 15 columns]"
      ]
     },
     "execution_count": 21,
     "metadata": {},
     "output_type": "execute_result"
    }
   ],
   "source": [
    "cust_claim"
   ]
  },
  {
   "cell_type": "markdown",
   "id": "d958b47c",
   "metadata": {},
   "source": [
    "### 5. One customer can claim for insurance more than once and in each claim,multiple categories of claims can be involved. However, customer ID should remain unique. Retain the most recent observation and delete any duplicated records inthe data based on the customer ID column."
   ]
  },
  {
   "cell_type": "code",
   "execution_count": 22,
   "id": "368397ac",
   "metadata": {},
   "outputs": [
    {
     "data": {
      "text/html": [
       "<div>\n",
       "<style scoped>\n",
       "    .dataframe tbody tr th:only-of-type {\n",
       "        vertical-align: middle;\n",
       "    }\n",
       "\n",
       "    .dataframe tbody tr th {\n",
       "        vertical-align: top;\n",
       "    }\n",
       "\n",
       "    .dataframe thead th {\n",
       "        text-align: right;\n",
       "    }\n",
       "</style>\n",
       "<table border=\"1\" class=\"dataframe\">\n",
       "  <thead>\n",
       "    <tr style=\"text-align: right;\">\n",
       "      <th></th>\n",
       "      <th>CUST_ID</th>\n",
       "      <th>gender</th>\n",
       "      <th>DateOfBirth</th>\n",
       "      <th>State</th>\n",
       "      <th>Contact</th>\n",
       "      <th>Segment</th>\n",
       "      <th>claim_id</th>\n",
       "      <th>incident_cause</th>\n",
       "      <th>claim_date</th>\n",
       "      <th>claim_area</th>\n",
       "      <th>claim_type</th>\n",
       "      <th>claim_amount</th>\n",
       "      <th>total_policy_claims</th>\n",
       "      <th>fraudulent</th>\n",
       "      <th>flag</th>\n",
       "    </tr>\n",
       "  </thead>\n",
       "  <tbody>\n",
       "    <tr>\n",
       "      <th>0</th>\n",
       "      <td>74155265</td>\n",
       "      <td>Male</td>\n",
       "      <td>1985-11-16</td>\n",
       "      <td>TX</td>\n",
       "      <td>392-739-4873</td>\n",
       "      <td>Gold</td>\n",
       "      <td>25647821</td>\n",
       "      <td>Natural causes</td>\n",
       "      <td>2017-01-01</td>\n",
       "      <td>Auto</td>\n",
       "      <td>Material only</td>\n",
       "      <td>2080.0</td>\n",
       "      <td>1.0</td>\n",
       "      <td>No</td>\n",
       "      <td>0.0</td>\n",
       "    </tr>\n",
       "    <tr>\n",
       "      <th>1</th>\n",
       "      <td>61745840</td>\n",
       "      <td>Female</td>\n",
       "      <td>1994-07-24</td>\n",
       "      <td>MA</td>\n",
       "      <td>612-684-5472</td>\n",
       "      <td>Platinum</td>\n",
       "      <td>90591192</td>\n",
       "      <td>Other driver error</td>\n",
       "      <td>2017-01-01</td>\n",
       "      <td>Home</td>\n",
       "      <td>Material and injury</td>\n",
       "      <td>30930.0</td>\n",
       "      <td>1.0</td>\n",
       "      <td>No</td>\n",
       "      <td>0.0</td>\n",
       "    </tr>\n",
       "    <tr>\n",
       "      <th>2</th>\n",
       "      <td>65176092</td>\n",
       "      <td>Male</td>\n",
       "      <td>1975-11-23</td>\n",
       "      <td>NC</td>\n",
       "      <td>651-379-2486</td>\n",
       "      <td>Silver</td>\n",
       "      <td>9476314</td>\n",
       "      <td>Other causes</td>\n",
       "      <td>2017-01-01</td>\n",
       "      <td>Auto</td>\n",
       "      <td>Material and injury</td>\n",
       "      <td>37290.0</td>\n",
       "      <td>3.0</td>\n",
       "      <td>No</td>\n",
       "      <td>0.0</td>\n",
       "    </tr>\n",
       "    <tr>\n",
       "      <th>3</th>\n",
       "      <td>42664554</td>\n",
       "      <td>Female</td>\n",
       "      <td>1993-08-13</td>\n",
       "      <td>TN</td>\n",
       "      <td>396-973-2531</td>\n",
       "      <td>Gold</td>\n",
       "      <td>42280334</td>\n",
       "      <td>Other causes</td>\n",
       "      <td>2017-01-01</td>\n",
       "      <td>Auto</td>\n",
       "      <td>Injury only</td>\n",
       "      <td>27670.0</td>\n",
       "      <td>1.0</td>\n",
       "      <td>No</td>\n",
       "      <td>0.0</td>\n",
       "    </tr>\n",
       "    <tr>\n",
       "      <th>4</th>\n",
       "      <td>39587790</td>\n",
       "      <td>Male</td>\n",
       "      <td>1965-01-10</td>\n",
       "      <td>LA</td>\n",
       "      <td>615-154-3516</td>\n",
       "      <td>Gold</td>\n",
       "      <td>39131766</td>\n",
       "      <td>Other causes</td>\n",
       "      <td>2017-01-01</td>\n",
       "      <td>Auto</td>\n",
       "      <td>Material only</td>\n",
       "      <td>2967.0</td>\n",
       "      <td>1.0</td>\n",
       "      <td>Yes</td>\n",
       "      <td>0.0</td>\n",
       "    </tr>\n",
       "    <tr>\n",
       "      <th>...</th>\n",
       "      <td>...</td>\n",
       "      <td>...</td>\n",
       "      <td>...</td>\n",
       "      <td>...</td>\n",
       "      <td>...</td>\n",
       "      <td>...</td>\n",
       "      <td>...</td>\n",
       "      <td>...</td>\n",
       "      <td>...</td>\n",
       "      <td>...</td>\n",
       "      <td>...</td>\n",
       "      <td>...</td>\n",
       "      <td>...</td>\n",
       "      <td>...</td>\n",
       "      <td>...</td>\n",
       "    </tr>\n",
       "    <tr>\n",
       "      <th>1073</th>\n",
       "      <td>65208809</td>\n",
       "      <td>Male</td>\n",
       "      <td>1964-04-22</td>\n",
       "      <td>VA</td>\n",
       "      <td>286-128-6132</td>\n",
       "      <td>Platinum</td>\n",
       "      <td>91386759</td>\n",
       "      <td>Natural causes</td>\n",
       "      <td>2018-10-30</td>\n",
       "      <td>Auto</td>\n",
       "      <td>Material only</td>\n",
       "      <td>2290.0</td>\n",
       "      <td>1.0</td>\n",
       "      <td>No</td>\n",
       "      <td>0.0</td>\n",
       "    </tr>\n",
       "    <tr>\n",
       "      <th>1074</th>\n",
       "      <td>40480522</td>\n",
       "      <td>Female</td>\n",
       "      <td>1984-05-30</td>\n",
       "      <td>NV</td>\n",
       "      <td>739-259-6835</td>\n",
       "      <td>Gold</td>\n",
       "      <td>52377605</td>\n",
       "      <td>Driver error</td>\n",
       "      <td>2018-10-30</td>\n",
       "      <td>Auto</td>\n",
       "      <td>Material and injury</td>\n",
       "      <td>26310.0</td>\n",
       "      <td>1.0</td>\n",
       "      <td>No</td>\n",
       "      <td>NaN</td>\n",
       "    </tr>\n",
       "    <tr>\n",
       "      <th>1075</th>\n",
       "      <td>17682060</td>\n",
       "      <td>Female</td>\n",
       "      <td>1974-11-21</td>\n",
       "      <td>NV</td>\n",
       "      <td>186-195-3465</td>\n",
       "      <td>Gold</td>\n",
       "      <td>49735712</td>\n",
       "      <td>Crime</td>\n",
       "      <td>2018-10-30</td>\n",
       "      <td>Home</td>\n",
       "      <td>Material and injury</td>\n",
       "      <td>17020.0</td>\n",
       "      <td>1.0</td>\n",
       "      <td>No</td>\n",
       "      <td>NaN</td>\n",
       "    </tr>\n",
       "    <tr>\n",
       "      <th>1076</th>\n",
       "      <td>77510822</td>\n",
       "      <td>Female</td>\n",
       "      <td>1986-03-18</td>\n",
       "      <td>AK</td>\n",
       "      <td>436-934-7156</td>\n",
       "      <td>Silver</td>\n",
       "      <td>87329176</td>\n",
       "      <td>Other driver error</td>\n",
       "      <td>2018-10-30</td>\n",
       "      <td>Auto</td>\n",
       "      <td>Material only</td>\n",
       "      <td>NaN</td>\n",
       "      <td>2.0</td>\n",
       "      <td>No</td>\n",
       "      <td>NaN</td>\n",
       "    </tr>\n",
       "    <tr>\n",
       "      <th>1077</th>\n",
       "      <td>58451506</td>\n",
       "      <td>Male</td>\n",
       "      <td>1968-04-22</td>\n",
       "      <td>FL</td>\n",
       "      <td>673-574-7823</td>\n",
       "      <td>Gold</td>\n",
       "      <td>43042986</td>\n",
       "      <td>Natural causes</td>\n",
       "      <td>2018-10-30</td>\n",
       "      <td>Auto</td>\n",
       "      <td>Material only</td>\n",
       "      <td>2420.0</td>\n",
       "      <td>1.0</td>\n",
       "      <td>No</td>\n",
       "      <td>0.0</td>\n",
       "    </tr>\n",
       "  </tbody>\n",
       "</table>\n",
       "<p>1078 rows × 15 columns</p>\n",
       "</div>"
      ],
      "text/plain": [
       "       CUST_ID  gender DateOfBirth State       Contact   Segment  claim_id  \\\n",
       "0     74155265    Male  1985-11-16    TX  392-739-4873      Gold  25647821   \n",
       "1     61745840  Female  1994-07-24    MA  612-684-5472  Platinum  90591192   \n",
       "2     65176092    Male  1975-11-23    NC  651-379-2486    Silver   9476314   \n",
       "3     42664554  Female  1993-08-13    TN  396-973-2531      Gold  42280334   \n",
       "4     39587790    Male  1965-01-10    LA  615-154-3516      Gold  39131766   \n",
       "...        ...     ...         ...   ...           ...       ...       ...   \n",
       "1073  65208809    Male  1964-04-22    VA  286-128-6132  Platinum  91386759   \n",
       "1074  40480522  Female  1984-05-30    NV  739-259-6835      Gold  52377605   \n",
       "1075  17682060  Female  1974-11-21    NV  186-195-3465      Gold  49735712   \n",
       "1076  77510822  Female  1986-03-18    AK  436-934-7156    Silver  87329176   \n",
       "1077  58451506    Male  1968-04-22    FL  673-574-7823      Gold  43042986   \n",
       "\n",
       "          incident_cause claim_date claim_area           claim_type  \\\n",
       "0         Natural causes 2017-01-01       Auto        Material only   \n",
       "1     Other driver error 2017-01-01       Home  Material and injury   \n",
       "2           Other causes 2017-01-01       Auto  Material and injury   \n",
       "3           Other causes 2017-01-01       Auto          Injury only   \n",
       "4           Other causes 2017-01-01       Auto        Material only   \n",
       "...                  ...        ...        ...                  ...   \n",
       "1073      Natural causes 2018-10-30       Auto        Material only   \n",
       "1074        Driver error 2018-10-30       Auto  Material and injury   \n",
       "1075               Crime 2018-10-30       Home  Material and injury   \n",
       "1076  Other driver error 2018-10-30       Auto        Material only   \n",
       "1077      Natural causes 2018-10-30       Auto        Material only   \n",
       "\n",
       "      claim_amount  total_policy_claims fraudulent  flag  \n",
       "0           2080.0                  1.0         No   0.0  \n",
       "1          30930.0                  1.0         No   0.0  \n",
       "2          37290.0                  3.0         No   0.0  \n",
       "3          27670.0                  1.0         No   0.0  \n",
       "4           2967.0                  1.0        Yes   0.0  \n",
       "...            ...                  ...        ...   ...  \n",
       "1073        2290.0                  1.0         No   0.0  \n",
       "1074       26310.0                  1.0         No   NaN  \n",
       "1075       17020.0                  1.0         No   NaN  \n",
       "1076           NaN                  2.0         No   NaN  \n",
       "1077        2420.0                  1.0         No   0.0  \n",
       "\n",
       "[1078 rows x 15 columns]"
      ]
     },
     "execution_count": 22,
     "metadata": {},
     "output_type": "execute_result"
    }
   ],
   "source": [
    "# earlier we had 1085 customer records, but now we will drop the number of customers which are repeating \n",
    "cust_claim=cust_claim.sort_values('claim_date').drop_duplicates('CUST_ID',keep='last').reset_index()\n",
    "cust_claim.drop(columns='index',inplace=True)\n",
    "cust_claim"
   ]
  },
  {
   "cell_type": "markdown",
   "id": "e74506ac",
   "metadata": {},
   "source": [
    "### 6. Check for missing values and impute the missing values with an appropriate value. (mean for continuous and mode for categorical)"
   ]
  },
  {
   "cell_type": "code",
   "execution_count": 23,
   "id": "0f971679",
   "metadata": {},
   "outputs": [
    {
     "name": "stdout",
     "output_type": "stream",
     "text": [
      "<class 'pandas.core.frame.DataFrame'>\n",
      "RangeIndex: 1078 entries, 0 to 1077\n",
      "Data columns (total 15 columns):\n",
      " #   Column               Non-Null Count  Dtype         \n",
      "---  ------               --------------  -----         \n",
      " 0   CUST_ID              1078 non-null   int64         \n",
      " 1   gender               1078 non-null   object        \n",
      " 2   DateOfBirth          1078 non-null   datetime64[ns]\n",
      " 3   State                1078 non-null   object        \n",
      " 4   Contact              1078 non-null   object        \n",
      " 5   Segment              1078 non-null   object        \n",
      " 6   claim_id             1078 non-null   int64         \n",
      " 7   incident_cause       1078 non-null   object        \n",
      " 8   claim_date           1078 non-null   datetime64[ns]\n",
      " 9   claim_area           1078 non-null   object        \n",
      " 10  claim_type           1078 non-null   object        \n",
      " 11  claim_amount         1013 non-null   float64       \n",
      " 12  total_policy_claims  1068 non-null   float64       \n",
      " 13  fraudulent           1078 non-null   object        \n",
      " 14  flag                 784 non-null    float64       \n",
      "dtypes: datetime64[ns](2), float64(3), int64(2), object(8)\n",
      "memory usage: 126.5+ KB\n"
     ]
    }
   ],
   "source": [
    "cust_claim.info()"
   ]
  },
  {
   "cell_type": "code",
   "execution_count": 24,
   "id": "dbfca57c",
   "metadata": {
    "scrolled": true
   },
   "outputs": [
    {
     "data": {
      "text/plain": [
       "CUST_ID                  0\n",
       "gender                   0\n",
       "DateOfBirth              0\n",
       "State                    0\n",
       "Contact                  0\n",
       "Segment                  0\n",
       "claim_id                 0\n",
       "incident_cause           0\n",
       "claim_date               0\n",
       "claim_area               0\n",
       "claim_type               0\n",
       "claim_amount            65\n",
       "total_policy_claims     10\n",
       "fraudulent               0\n",
       "flag                   294\n",
       "dtype: int64"
      ]
     },
     "execution_count": 24,
     "metadata": {},
     "output_type": "execute_result"
    }
   ],
   "source": [
    "cust_claim.isna().sum()"
   ]
  },
  {
   "cell_type": "code",
   "execution_count": 25,
   "id": "afb0ad51",
   "metadata": {},
   "outputs": [
    {
     "data": {
      "text/plain": [
       "65"
      ]
     },
     "execution_count": 25,
     "metadata": {},
     "output_type": "execute_result"
    }
   ],
   "source": [
    "cust_claim.claim_amount.isna().sum()"
   ]
  },
  {
   "cell_type": "code",
   "execution_count": 26,
   "id": "1f783d41",
   "metadata": {},
   "outputs": [
    {
     "data": {
      "text/plain": [
       "10"
      ]
     },
     "execution_count": 26,
     "metadata": {},
     "output_type": "execute_result"
    }
   ],
   "source": [
    "cust_claim.total_policy_claims.isna().sum()"
   ]
  },
  {
   "cell_type": "code",
   "execution_count": 27,
   "id": "8b0ab54f",
   "metadata": {},
   "outputs": [
    {
     "data": {
      "text/plain": [
       "0"
      ]
     },
     "execution_count": 27,
     "metadata": {},
     "output_type": "execute_result"
    }
   ],
   "source": [
    "cust_claim.claim_amount = cust_claim.claim_amount.fillna(cust_claim.claim_amount.mean())\n",
    "cust_claim.claim_amount.isna().sum()"
   ]
  },
  {
   "cell_type": "code",
   "execution_count": 28,
   "id": "d36c9507",
   "metadata": {},
   "outputs": [
    {
     "data": {
      "text/plain": [
       "0    1.0\n",
       "dtype: float64"
      ]
     },
     "execution_count": 28,
     "metadata": {},
     "output_type": "execute_result"
    }
   ],
   "source": [
    "cust_claim.total_policy_claims.mode()"
   ]
  },
  {
   "cell_type": "code",
   "execution_count": 29,
   "id": "40c0c132",
   "metadata": {},
   "outputs": [
    {
     "data": {
      "text/plain": [
       "0"
      ]
     },
     "execution_count": 29,
     "metadata": {},
     "output_type": "execute_result"
    }
   ],
   "source": [
    "# not working\n",
    "cust_claim.total_policy_claims = cust_claim.total_policy_claims.fillna(1.0)\n",
    "cust_claim.total_policy_claims.isna().sum()"
   ]
  },
  {
   "cell_type": "markdown",
   "id": "7d865e85",
   "metadata": {},
   "source": [
    "### 7. Calculate the age of customers in years. Based on the age, categorize the customers according to the below criteria\n",
    "#### Children < 18\n",
    "#### Youth 18-30\n",
    "#### Adult 30-60\n",
    "#### Senior > 60\n"
   ]
  },
  {
   "cell_type": "code",
   "execution_count": 30,
   "id": "e69b9c19",
   "metadata": {},
   "outputs": [
    {
     "data": {
      "text/html": [
       "<div>\n",
       "<style scoped>\n",
       "    .dataframe tbody tr th:only-of-type {\n",
       "        vertical-align: middle;\n",
       "    }\n",
       "\n",
       "    .dataframe tbody tr th {\n",
       "        vertical-align: top;\n",
       "    }\n",
       "\n",
       "    .dataframe thead th {\n",
       "        text-align: right;\n",
       "    }\n",
       "</style>\n",
       "<table border=\"1\" class=\"dataframe\">\n",
       "  <thead>\n",
       "    <tr style=\"text-align: right;\">\n",
       "      <th></th>\n",
       "      <th>CUST_ID</th>\n",
       "      <th>gender</th>\n",
       "      <th>DateOfBirth</th>\n",
       "      <th>State</th>\n",
       "      <th>Contact</th>\n",
       "      <th>Segment</th>\n",
       "      <th>claim_id</th>\n",
       "      <th>incident_cause</th>\n",
       "      <th>claim_date</th>\n",
       "      <th>claim_area</th>\n",
       "      <th>claim_type</th>\n",
       "      <th>claim_amount</th>\n",
       "      <th>total_policy_claims</th>\n",
       "      <th>fraudulent</th>\n",
       "      <th>flag</th>\n",
       "    </tr>\n",
       "  </thead>\n",
       "  <tbody>\n",
       "    <tr>\n",
       "      <th>0</th>\n",
       "      <td>74155265</td>\n",
       "      <td>Male</td>\n",
       "      <td>1985-11-16</td>\n",
       "      <td>TX</td>\n",
       "      <td>392-739-4873</td>\n",
       "      <td>Gold</td>\n",
       "      <td>25647821</td>\n",
       "      <td>Natural causes</td>\n",
       "      <td>2017-01-01</td>\n",
       "      <td>Auto</td>\n",
       "      <td>Material only</td>\n",
       "      <td>2080.0</td>\n",
       "      <td>1.0</td>\n",
       "      <td>No</td>\n",
       "      <td>0.0</td>\n",
       "    </tr>\n",
       "    <tr>\n",
       "      <th>1</th>\n",
       "      <td>61745840</td>\n",
       "      <td>Female</td>\n",
       "      <td>1994-07-24</td>\n",
       "      <td>MA</td>\n",
       "      <td>612-684-5472</td>\n",
       "      <td>Platinum</td>\n",
       "      <td>90591192</td>\n",
       "      <td>Other driver error</td>\n",
       "      <td>2017-01-01</td>\n",
       "      <td>Home</td>\n",
       "      <td>Material and injury</td>\n",
       "      <td>30930.0</td>\n",
       "      <td>1.0</td>\n",
       "      <td>No</td>\n",
       "      <td>0.0</td>\n",
       "    </tr>\n",
       "    <tr>\n",
       "      <th>2</th>\n",
       "      <td>65176092</td>\n",
       "      <td>Male</td>\n",
       "      <td>1975-11-23</td>\n",
       "      <td>NC</td>\n",
       "      <td>651-379-2486</td>\n",
       "      <td>Silver</td>\n",
       "      <td>9476314</td>\n",
       "      <td>Other causes</td>\n",
       "      <td>2017-01-01</td>\n",
       "      <td>Auto</td>\n",
       "      <td>Material and injury</td>\n",
       "      <td>37290.0</td>\n",
       "      <td>3.0</td>\n",
       "      <td>No</td>\n",
       "      <td>0.0</td>\n",
       "    </tr>\n",
       "    <tr>\n",
       "      <th>3</th>\n",
       "      <td>42664554</td>\n",
       "      <td>Female</td>\n",
       "      <td>1993-08-13</td>\n",
       "      <td>TN</td>\n",
       "      <td>396-973-2531</td>\n",
       "      <td>Gold</td>\n",
       "      <td>42280334</td>\n",
       "      <td>Other causes</td>\n",
       "      <td>2017-01-01</td>\n",
       "      <td>Auto</td>\n",
       "      <td>Injury only</td>\n",
       "      <td>27670.0</td>\n",
       "      <td>1.0</td>\n",
       "      <td>No</td>\n",
       "      <td>0.0</td>\n",
       "    </tr>\n",
       "    <tr>\n",
       "      <th>4</th>\n",
       "      <td>39587790</td>\n",
       "      <td>Male</td>\n",
       "      <td>1965-01-10</td>\n",
       "      <td>LA</td>\n",
       "      <td>615-154-3516</td>\n",
       "      <td>Gold</td>\n",
       "      <td>39131766</td>\n",
       "      <td>Other causes</td>\n",
       "      <td>2017-01-01</td>\n",
       "      <td>Auto</td>\n",
       "      <td>Material only</td>\n",
       "      <td>2967.0</td>\n",
       "      <td>1.0</td>\n",
       "      <td>Yes</td>\n",
       "      <td>0.0</td>\n",
       "    </tr>\n",
       "  </tbody>\n",
       "</table>\n",
       "</div>"
      ],
      "text/plain": [
       "    CUST_ID  gender DateOfBirth State       Contact   Segment  claim_id  \\\n",
       "0  74155265    Male  1985-11-16    TX  392-739-4873      Gold  25647821   \n",
       "1  61745840  Female  1994-07-24    MA  612-684-5472  Platinum  90591192   \n",
       "2  65176092    Male  1975-11-23    NC  651-379-2486    Silver   9476314   \n",
       "3  42664554  Female  1993-08-13    TN  396-973-2531      Gold  42280334   \n",
       "4  39587790    Male  1965-01-10    LA  615-154-3516      Gold  39131766   \n",
       "\n",
       "       incident_cause claim_date claim_area           claim_type  \\\n",
       "0      Natural causes 2017-01-01       Auto        Material only   \n",
       "1  Other driver error 2017-01-01       Home  Material and injury   \n",
       "2        Other causes 2017-01-01       Auto  Material and injury   \n",
       "3        Other causes 2017-01-01       Auto          Injury only   \n",
       "4        Other causes 2017-01-01       Auto        Material only   \n",
       "\n",
       "   claim_amount  total_policy_claims fraudulent  flag  \n",
       "0        2080.0                  1.0         No   0.0  \n",
       "1       30930.0                  1.0         No   0.0  \n",
       "2       37290.0                  3.0         No   0.0  \n",
       "3       27670.0                  1.0         No   0.0  \n",
       "4        2967.0                  1.0        Yes   0.0  "
      ]
     },
     "execution_count": 30,
     "metadata": {},
     "output_type": "execute_result"
    }
   ],
   "source": [
    "cust_claim.head()"
   ]
  },
  {
   "cell_type": "code",
   "execution_count": 31,
   "id": "9fdfce0e",
   "metadata": {},
   "outputs": [
    {
     "name": "stderr",
     "output_type": "stream",
     "text": [
      "<ipython-input-31-b4015aa8929a>:1: UserWarning: Pandas doesn't allow columns to be created via a new attribute name - see https://pandas.pydata.org/pandas-docs/stable/indexing.html#attribute-access\n",
      "  cust_claim.Age = (pd.Timestamp('now') - cust_claim['DateOfBirth']).astype('<m8[Y]')\n"
     ]
    }
   ],
   "source": [
    "cust_claim.Age = (pd.Timestamp('now') - cust_claim['DateOfBirth']).astype('<m8[Y]')\n",
    "cust_claim.Age = cust_claim.Age.astype('int')"
   ]
  },
  {
   "cell_type": "code",
   "execution_count": 32,
   "id": "5fd9cfc9",
   "metadata": {},
   "outputs": [],
   "source": [
    "cust_claim['AgeGroup'] = pd.cut(cust_claim.Age, \n",
    "                                bins=[0,18,30,60,100],\n",
    "                                labels=['Children','Youth','Adult','Senior'],\n",
    "                                right=False)"
   ]
  },
  {
   "cell_type": "code",
   "execution_count": 33,
   "id": "9cdaecc0",
   "metadata": {},
   "outputs": [
    {
     "data": {
      "text/html": [
       "<div>\n",
       "<style scoped>\n",
       "    .dataframe tbody tr th:only-of-type {\n",
       "        vertical-align: middle;\n",
       "    }\n",
       "\n",
       "    .dataframe tbody tr th {\n",
       "        vertical-align: top;\n",
       "    }\n",
       "\n",
       "    .dataframe thead th {\n",
       "        text-align: right;\n",
       "    }\n",
       "</style>\n",
       "<table border=\"1\" class=\"dataframe\">\n",
       "  <thead>\n",
       "    <tr style=\"text-align: right;\">\n",
       "      <th></th>\n",
       "      <th>CUST_ID</th>\n",
       "      <th>gender</th>\n",
       "      <th>DateOfBirth</th>\n",
       "      <th>State</th>\n",
       "      <th>Contact</th>\n",
       "      <th>Segment</th>\n",
       "      <th>claim_id</th>\n",
       "      <th>incident_cause</th>\n",
       "      <th>claim_date</th>\n",
       "      <th>claim_area</th>\n",
       "      <th>claim_type</th>\n",
       "      <th>claim_amount</th>\n",
       "      <th>total_policy_claims</th>\n",
       "      <th>fraudulent</th>\n",
       "      <th>flag</th>\n",
       "      <th>AgeGroup</th>\n",
       "    </tr>\n",
       "  </thead>\n",
       "  <tbody>\n",
       "    <tr>\n",
       "      <th>0</th>\n",
       "      <td>74155265</td>\n",
       "      <td>Male</td>\n",
       "      <td>1985-11-16</td>\n",
       "      <td>TX</td>\n",
       "      <td>392-739-4873</td>\n",
       "      <td>Gold</td>\n",
       "      <td>25647821</td>\n",
       "      <td>Natural causes</td>\n",
       "      <td>2017-01-01</td>\n",
       "      <td>Auto</td>\n",
       "      <td>Material only</td>\n",
       "      <td>2080.0</td>\n",
       "      <td>1.0</td>\n",
       "      <td>No</td>\n",
       "      <td>0.0</td>\n",
       "      <td>Adult</td>\n",
       "    </tr>\n",
       "    <tr>\n",
       "      <th>1</th>\n",
       "      <td>61745840</td>\n",
       "      <td>Female</td>\n",
       "      <td>1994-07-24</td>\n",
       "      <td>MA</td>\n",
       "      <td>612-684-5472</td>\n",
       "      <td>Platinum</td>\n",
       "      <td>90591192</td>\n",
       "      <td>Other driver error</td>\n",
       "      <td>2017-01-01</td>\n",
       "      <td>Home</td>\n",
       "      <td>Material and injury</td>\n",
       "      <td>30930.0</td>\n",
       "      <td>1.0</td>\n",
       "      <td>No</td>\n",
       "      <td>0.0</td>\n",
       "      <td>Youth</td>\n",
       "    </tr>\n",
       "    <tr>\n",
       "      <th>2</th>\n",
       "      <td>65176092</td>\n",
       "      <td>Male</td>\n",
       "      <td>1975-11-23</td>\n",
       "      <td>NC</td>\n",
       "      <td>651-379-2486</td>\n",
       "      <td>Silver</td>\n",
       "      <td>9476314</td>\n",
       "      <td>Other causes</td>\n",
       "      <td>2017-01-01</td>\n",
       "      <td>Auto</td>\n",
       "      <td>Material and injury</td>\n",
       "      <td>37290.0</td>\n",
       "      <td>3.0</td>\n",
       "      <td>No</td>\n",
       "      <td>0.0</td>\n",
       "      <td>Adult</td>\n",
       "    </tr>\n",
       "    <tr>\n",
       "      <th>3</th>\n",
       "      <td>42664554</td>\n",
       "      <td>Female</td>\n",
       "      <td>1993-08-13</td>\n",
       "      <td>TN</td>\n",
       "      <td>396-973-2531</td>\n",
       "      <td>Gold</td>\n",
       "      <td>42280334</td>\n",
       "      <td>Other causes</td>\n",
       "      <td>2017-01-01</td>\n",
       "      <td>Auto</td>\n",
       "      <td>Injury only</td>\n",
       "      <td>27670.0</td>\n",
       "      <td>1.0</td>\n",
       "      <td>No</td>\n",
       "      <td>0.0</td>\n",
       "      <td>Youth</td>\n",
       "    </tr>\n",
       "    <tr>\n",
       "      <th>4</th>\n",
       "      <td>39587790</td>\n",
       "      <td>Male</td>\n",
       "      <td>1965-01-10</td>\n",
       "      <td>LA</td>\n",
       "      <td>615-154-3516</td>\n",
       "      <td>Gold</td>\n",
       "      <td>39131766</td>\n",
       "      <td>Other causes</td>\n",
       "      <td>2017-01-01</td>\n",
       "      <td>Auto</td>\n",
       "      <td>Material only</td>\n",
       "      <td>2967.0</td>\n",
       "      <td>1.0</td>\n",
       "      <td>Yes</td>\n",
       "      <td>0.0</td>\n",
       "      <td>Adult</td>\n",
       "    </tr>\n",
       "  </tbody>\n",
       "</table>\n",
       "</div>"
      ],
      "text/plain": [
       "    CUST_ID  gender DateOfBirth State       Contact   Segment  claim_id  \\\n",
       "0  74155265    Male  1985-11-16    TX  392-739-4873      Gold  25647821   \n",
       "1  61745840  Female  1994-07-24    MA  612-684-5472  Platinum  90591192   \n",
       "2  65176092    Male  1975-11-23    NC  651-379-2486    Silver   9476314   \n",
       "3  42664554  Female  1993-08-13    TN  396-973-2531      Gold  42280334   \n",
       "4  39587790    Male  1965-01-10    LA  615-154-3516      Gold  39131766   \n",
       "\n",
       "       incident_cause claim_date claim_area           claim_type  \\\n",
       "0      Natural causes 2017-01-01       Auto        Material only   \n",
       "1  Other driver error 2017-01-01       Home  Material and injury   \n",
       "2        Other causes 2017-01-01       Auto  Material and injury   \n",
       "3        Other causes 2017-01-01       Auto          Injury only   \n",
       "4        Other causes 2017-01-01       Auto        Material only   \n",
       "\n",
       "   claim_amount  total_policy_claims fraudulent  flag AgeGroup  \n",
       "0        2080.0                  1.0         No   0.0    Adult  \n",
       "1       30930.0                  1.0         No   0.0    Youth  \n",
       "2       37290.0                  3.0         No   0.0    Adult  \n",
       "3       27670.0                  1.0         No   0.0    Youth  \n",
       "4        2967.0                  1.0        Yes   0.0    Adult  "
      ]
     },
     "execution_count": 33,
     "metadata": {},
     "output_type": "execute_result"
    }
   ],
   "source": [
    "cust_claim.head()"
   ]
  },
  {
   "cell_type": "markdown",
   "id": "77430bca",
   "metadata": {},
   "source": [
    "### 8. What is the average amount claimed by the customers from various segments?"
   ]
  },
  {
   "cell_type": "code",
   "execution_count": 34,
   "id": "00a9610a",
   "metadata": {},
   "outputs": [
    {
     "data": {
      "text/html": [
       "<div>\n",
       "<style scoped>\n",
       "    .dataframe tbody tr th:only-of-type {\n",
       "        vertical-align: middle;\n",
       "    }\n",
       "\n",
       "    .dataframe tbody tr th {\n",
       "        vertical-align: top;\n",
       "    }\n",
       "\n",
       "    .dataframe thead th {\n",
       "        text-align: right;\n",
       "    }\n",
       "</style>\n",
       "<table border=\"1\" class=\"dataframe\">\n",
       "  <thead>\n",
       "    <tr style=\"text-align: right;\">\n",
       "      <th></th>\n",
       "      <th>Segment</th>\n",
       "      <th>claim_amount</th>\n",
       "    </tr>\n",
       "  </thead>\n",
       "  <tbody>\n",
       "    <tr>\n",
       "      <th>0</th>\n",
       "      <td>Gold</td>\n",
       "      <td>12846.40</td>\n",
       "    </tr>\n",
       "    <tr>\n",
       "      <th>1</th>\n",
       "      <td>Platinum</td>\n",
       "      <td>12371.65</td>\n",
       "    </tr>\n",
       "    <tr>\n",
       "      <th>2</th>\n",
       "      <td>Silver</td>\n",
       "      <td>12267.86</td>\n",
       "    </tr>\n",
       "  </tbody>\n",
       "</table>\n",
       "</div>"
      ],
      "text/plain": [
       "    Segment  claim_amount\n",
       "0      Gold      12846.40\n",
       "1  Platinum      12371.65\n",
       "2    Silver      12267.86"
      ]
     },
     "execution_count": 34,
     "metadata": {},
     "output_type": "execute_result"
    }
   ],
   "source": [
    "round(cust_claim.groupby(['Segment'])[['claim_amount']].mean().reset_index(),2)"
   ]
  },
  {
   "cell_type": "markdown",
   "id": "8458ba88",
   "metadata": {},
   "source": [
    "### 9. What is the total claim amount based on incident cause for all the claims that have been done at least 20 days prior to 1st of October, 2018.\n"
   ]
  },
  {
   "cell_type": "code",
   "execution_count": 35,
   "id": "166643bb",
   "metadata": {},
   "outputs": [
    {
     "data": {
      "text/html": [
       "<div>\n",
       "<style scoped>\n",
       "    .dataframe tbody tr th:only-of-type {\n",
       "        vertical-align: middle;\n",
       "    }\n",
       "\n",
       "    .dataframe tbody tr th {\n",
       "        vertical-align: top;\n",
       "    }\n",
       "\n",
       "    .dataframe thead th {\n",
       "        text-align: right;\n",
       "    }\n",
       "</style>\n",
       "<table border=\"1\" class=\"dataframe\">\n",
       "  <thead>\n",
       "    <tr style=\"text-align: right;\">\n",
       "      <th></th>\n",
       "      <th>incident_cause</th>\n",
       "      <th>claim_amount</th>\n",
       "    </tr>\n",
       "  </thead>\n",
       "  <tbody>\n",
       "    <tr>\n",
       "      <th>0</th>\n",
       "      <td>Crime</td>\n",
       "      <td>7.219386e+05</td>\n",
       "    </tr>\n",
       "    <tr>\n",
       "      <th>1</th>\n",
       "      <td>Driver error</td>\n",
       "      <td>3.315851e+06</td>\n",
       "    </tr>\n",
       "    <tr>\n",
       "      <th>2</th>\n",
       "      <td>Natural causes</td>\n",
       "      <td>1.312987e+06</td>\n",
       "    </tr>\n",
       "    <tr>\n",
       "      <th>3</th>\n",
       "      <td>Other causes</td>\n",
       "      <td>3.723152e+06</td>\n",
       "    </tr>\n",
       "    <tr>\n",
       "      <th>4</th>\n",
       "      <td>Other driver error</td>\n",
       "      <td>3.277536e+06</td>\n",
       "    </tr>\n",
       "  </tbody>\n",
       "</table>\n",
       "</div>"
      ],
      "text/plain": [
       "       incident_cause  claim_amount\n",
       "0               Crime  7.219386e+05\n",
       "1        Driver error  3.315851e+06\n",
       "2      Natural causes  1.312987e+06\n",
       "3        Other causes  3.723152e+06\n",
       "4  Other driver error  3.277536e+06"
      ]
     },
     "execution_count": 35,
     "metadata": {},
     "output_type": "execute_result"
    }
   ],
   "source": [
    "cust_claim.loc[cust_claim.claim_date < \"2018-09-10\",:].groupby(['incident_cause'])[['claim_amount']].sum().reset_index()"
   ]
  },
  {
   "cell_type": "markdown",
   "id": "4b56f302",
   "metadata": {},
   "source": [
    "### 10. How many adults from TX, DE and AK claimed insurance for driver related issues and causes? "
   ]
  },
  {
   "cell_type": "code",
   "execution_count": 36,
   "id": "d4d659b5",
   "metadata": {
    "scrolled": true
   },
   "outputs": [
    {
     "data": {
      "text/html": [
       "<div>\n",
       "<style scoped>\n",
       "    .dataframe tbody tr th:only-of-type {\n",
       "        vertical-align: middle;\n",
       "    }\n",
       "\n",
       "    .dataframe tbody tr th {\n",
       "        vertical-align: top;\n",
       "    }\n",
       "\n",
       "    .dataframe thead th {\n",
       "        text-align: right;\n",
       "    }\n",
       "</style>\n",
       "<table border=\"1\" class=\"dataframe\">\n",
       "  <thead>\n",
       "    <tr style=\"text-align: right;\">\n",
       "      <th></th>\n",
       "      <th>CUST_ID</th>\n",
       "      <th>gender</th>\n",
       "      <th>DateOfBirth</th>\n",
       "      <th>State</th>\n",
       "      <th>Contact</th>\n",
       "      <th>Segment</th>\n",
       "      <th>claim_id</th>\n",
       "      <th>incident_cause</th>\n",
       "      <th>claim_date</th>\n",
       "      <th>claim_area</th>\n",
       "      <th>claim_type</th>\n",
       "      <th>claim_amount</th>\n",
       "      <th>total_policy_claims</th>\n",
       "      <th>fraudulent</th>\n",
       "      <th>flag</th>\n",
       "      <th>AgeGroup</th>\n",
       "    </tr>\n",
       "  </thead>\n",
       "  <tbody>\n",
       "    <tr>\n",
       "      <th>0</th>\n",
       "      <td>74155265</td>\n",
       "      <td>Male</td>\n",
       "      <td>1985-11-16</td>\n",
       "      <td>TX</td>\n",
       "      <td>392-739-4873</td>\n",
       "      <td>Gold</td>\n",
       "      <td>25647821</td>\n",
       "      <td>Natural causes</td>\n",
       "      <td>2017-01-01</td>\n",
       "      <td>Auto</td>\n",
       "      <td>Material only</td>\n",
       "      <td>2080.000000</td>\n",
       "      <td>1.0</td>\n",
       "      <td>No</td>\n",
       "      <td>0.0</td>\n",
       "      <td>Adult</td>\n",
       "    </tr>\n",
       "    <tr>\n",
       "      <th>1</th>\n",
       "      <td>61745840</td>\n",
       "      <td>Female</td>\n",
       "      <td>1994-07-24</td>\n",
       "      <td>MA</td>\n",
       "      <td>612-684-5472</td>\n",
       "      <td>Platinum</td>\n",
       "      <td>90591192</td>\n",
       "      <td>Other driver error</td>\n",
       "      <td>2017-01-01</td>\n",
       "      <td>Home</td>\n",
       "      <td>Material and injury</td>\n",
       "      <td>30930.000000</td>\n",
       "      <td>1.0</td>\n",
       "      <td>No</td>\n",
       "      <td>0.0</td>\n",
       "      <td>Youth</td>\n",
       "    </tr>\n",
       "    <tr>\n",
       "      <th>2</th>\n",
       "      <td>65176092</td>\n",
       "      <td>Male</td>\n",
       "      <td>1975-11-23</td>\n",
       "      <td>NC</td>\n",
       "      <td>651-379-2486</td>\n",
       "      <td>Silver</td>\n",
       "      <td>9476314</td>\n",
       "      <td>Other causes</td>\n",
       "      <td>2017-01-01</td>\n",
       "      <td>Auto</td>\n",
       "      <td>Material and injury</td>\n",
       "      <td>37290.000000</td>\n",
       "      <td>3.0</td>\n",
       "      <td>No</td>\n",
       "      <td>0.0</td>\n",
       "      <td>Adult</td>\n",
       "    </tr>\n",
       "    <tr>\n",
       "      <th>3</th>\n",
       "      <td>42664554</td>\n",
       "      <td>Female</td>\n",
       "      <td>1993-08-13</td>\n",
       "      <td>TN</td>\n",
       "      <td>396-973-2531</td>\n",
       "      <td>Gold</td>\n",
       "      <td>42280334</td>\n",
       "      <td>Other causes</td>\n",
       "      <td>2017-01-01</td>\n",
       "      <td>Auto</td>\n",
       "      <td>Injury only</td>\n",
       "      <td>27670.000000</td>\n",
       "      <td>1.0</td>\n",
       "      <td>No</td>\n",
       "      <td>0.0</td>\n",
       "      <td>Youth</td>\n",
       "    </tr>\n",
       "    <tr>\n",
       "      <th>4</th>\n",
       "      <td>39587790</td>\n",
       "      <td>Male</td>\n",
       "      <td>1965-01-10</td>\n",
       "      <td>LA</td>\n",
       "      <td>615-154-3516</td>\n",
       "      <td>Gold</td>\n",
       "      <td>39131766</td>\n",
       "      <td>Other causes</td>\n",
       "      <td>2017-01-01</td>\n",
       "      <td>Auto</td>\n",
       "      <td>Material only</td>\n",
       "      <td>2967.000000</td>\n",
       "      <td>1.0</td>\n",
       "      <td>Yes</td>\n",
       "      <td>0.0</td>\n",
       "      <td>Adult</td>\n",
       "    </tr>\n",
       "    <tr>\n",
       "      <th>...</th>\n",
       "      <td>...</td>\n",
       "      <td>...</td>\n",
       "      <td>...</td>\n",
       "      <td>...</td>\n",
       "      <td>...</td>\n",
       "      <td>...</td>\n",
       "      <td>...</td>\n",
       "      <td>...</td>\n",
       "      <td>...</td>\n",
       "      <td>...</td>\n",
       "      <td>...</td>\n",
       "      <td>...</td>\n",
       "      <td>...</td>\n",
       "      <td>...</td>\n",
       "      <td>...</td>\n",
       "      <td>...</td>\n",
       "    </tr>\n",
       "    <tr>\n",
       "      <th>1073</th>\n",
       "      <td>65208809</td>\n",
       "      <td>Male</td>\n",
       "      <td>1964-04-22</td>\n",
       "      <td>VA</td>\n",
       "      <td>286-128-6132</td>\n",
       "      <td>Platinum</td>\n",
       "      <td>91386759</td>\n",
       "      <td>Natural causes</td>\n",
       "      <td>2018-10-30</td>\n",
       "      <td>Auto</td>\n",
       "      <td>Material only</td>\n",
       "      <td>2290.000000</td>\n",
       "      <td>1.0</td>\n",
       "      <td>No</td>\n",
       "      <td>0.0</td>\n",
       "      <td>Adult</td>\n",
       "    </tr>\n",
       "    <tr>\n",
       "      <th>1074</th>\n",
       "      <td>40480522</td>\n",
       "      <td>Female</td>\n",
       "      <td>1984-05-30</td>\n",
       "      <td>NV</td>\n",
       "      <td>739-259-6835</td>\n",
       "      <td>Gold</td>\n",
       "      <td>52377605</td>\n",
       "      <td>Driver error</td>\n",
       "      <td>2018-10-30</td>\n",
       "      <td>Auto</td>\n",
       "      <td>Material and injury</td>\n",
       "      <td>26310.000000</td>\n",
       "      <td>1.0</td>\n",
       "      <td>No</td>\n",
       "      <td>NaN</td>\n",
       "      <td>Adult</td>\n",
       "    </tr>\n",
       "    <tr>\n",
       "      <th>1075</th>\n",
       "      <td>17682060</td>\n",
       "      <td>Female</td>\n",
       "      <td>1974-11-21</td>\n",
       "      <td>NV</td>\n",
       "      <td>186-195-3465</td>\n",
       "      <td>Gold</td>\n",
       "      <td>49735712</td>\n",
       "      <td>Crime</td>\n",
       "      <td>2018-10-30</td>\n",
       "      <td>Home</td>\n",
       "      <td>Material and injury</td>\n",
       "      <td>17020.000000</td>\n",
       "      <td>1.0</td>\n",
       "      <td>No</td>\n",
       "      <td>NaN</td>\n",
       "      <td>Adult</td>\n",
       "    </tr>\n",
       "    <tr>\n",
       "      <th>1076</th>\n",
       "      <td>77510822</td>\n",
       "      <td>Female</td>\n",
       "      <td>1986-03-18</td>\n",
       "      <td>AK</td>\n",
       "      <td>436-934-7156</td>\n",
       "      <td>Silver</td>\n",
       "      <td>87329176</td>\n",
       "      <td>Other driver error</td>\n",
       "      <td>2018-10-30</td>\n",
       "      <td>Auto</td>\n",
       "      <td>Material only</td>\n",
       "      <td>12501.726555</td>\n",
       "      <td>2.0</td>\n",
       "      <td>No</td>\n",
       "      <td>NaN</td>\n",
       "      <td>Adult</td>\n",
       "    </tr>\n",
       "    <tr>\n",
       "      <th>1077</th>\n",
       "      <td>58451506</td>\n",
       "      <td>Male</td>\n",
       "      <td>1968-04-22</td>\n",
       "      <td>FL</td>\n",
       "      <td>673-574-7823</td>\n",
       "      <td>Gold</td>\n",
       "      <td>43042986</td>\n",
       "      <td>Natural causes</td>\n",
       "      <td>2018-10-30</td>\n",
       "      <td>Auto</td>\n",
       "      <td>Material only</td>\n",
       "      <td>2420.000000</td>\n",
       "      <td>1.0</td>\n",
       "      <td>No</td>\n",
       "      <td>0.0</td>\n",
       "      <td>Adult</td>\n",
       "    </tr>\n",
       "  </tbody>\n",
       "</table>\n",
       "<p>1078 rows × 16 columns</p>\n",
       "</div>"
      ],
      "text/plain": [
       "       CUST_ID  gender DateOfBirth State       Contact   Segment  claim_id  \\\n",
       "0     74155265    Male  1985-11-16    TX  392-739-4873      Gold  25647821   \n",
       "1     61745840  Female  1994-07-24    MA  612-684-5472  Platinum  90591192   \n",
       "2     65176092    Male  1975-11-23    NC  651-379-2486    Silver   9476314   \n",
       "3     42664554  Female  1993-08-13    TN  396-973-2531      Gold  42280334   \n",
       "4     39587790    Male  1965-01-10    LA  615-154-3516      Gold  39131766   \n",
       "...        ...     ...         ...   ...           ...       ...       ...   \n",
       "1073  65208809    Male  1964-04-22    VA  286-128-6132  Platinum  91386759   \n",
       "1074  40480522  Female  1984-05-30    NV  739-259-6835      Gold  52377605   \n",
       "1075  17682060  Female  1974-11-21    NV  186-195-3465      Gold  49735712   \n",
       "1076  77510822  Female  1986-03-18    AK  436-934-7156    Silver  87329176   \n",
       "1077  58451506    Male  1968-04-22    FL  673-574-7823      Gold  43042986   \n",
       "\n",
       "          incident_cause claim_date claim_area           claim_type  \\\n",
       "0         Natural causes 2017-01-01       Auto        Material only   \n",
       "1     Other driver error 2017-01-01       Home  Material and injury   \n",
       "2           Other causes 2017-01-01       Auto  Material and injury   \n",
       "3           Other causes 2017-01-01       Auto          Injury only   \n",
       "4           Other causes 2017-01-01       Auto        Material only   \n",
       "...                  ...        ...        ...                  ...   \n",
       "1073      Natural causes 2018-10-30       Auto        Material only   \n",
       "1074        Driver error 2018-10-30       Auto  Material and injury   \n",
       "1075               Crime 2018-10-30       Home  Material and injury   \n",
       "1076  Other driver error 2018-10-30       Auto        Material only   \n",
       "1077      Natural causes 2018-10-30       Auto        Material only   \n",
       "\n",
       "      claim_amount  total_policy_claims fraudulent  flag AgeGroup  \n",
       "0      2080.000000                  1.0         No   0.0    Adult  \n",
       "1     30930.000000                  1.0         No   0.0    Youth  \n",
       "2     37290.000000                  3.0         No   0.0    Adult  \n",
       "3     27670.000000                  1.0         No   0.0    Youth  \n",
       "4      2967.000000                  1.0        Yes   0.0    Adult  \n",
       "...            ...                  ...        ...   ...      ...  \n",
       "1073   2290.000000                  1.0         No   0.0    Adult  \n",
       "1074  26310.000000                  1.0         No   NaN    Adult  \n",
       "1075  17020.000000                  1.0         No   NaN    Adult  \n",
       "1076  12501.726555                  2.0         No   NaN    Adult  \n",
       "1077   2420.000000                  1.0         No   0.0    Adult  \n",
       "\n",
       "[1078 rows x 16 columns]"
      ]
     },
     "execution_count": 36,
     "metadata": {},
     "output_type": "execute_result"
    }
   ],
   "source": [
    "cust_claim"
   ]
  },
  {
   "cell_type": "code",
   "execution_count": 37,
   "id": "4ff082e6",
   "metadata": {},
   "outputs": [
    {
     "name": "stdout",
     "output_type": "stream",
     "text": [
      "Total adults from TX, DE and AK claimed insurance for driver related issues and causes: 27\n"
     ]
    }
   ],
   "source": [
    "print('Total adults from TX, DE and AK claimed insurance for driver related issues and causes:',cust_claim[((cust_claim.AgeGroup=='Adult'))&((cust_claim.State == 'TX')|(cust_claim.State == 'DE')|(cust_claim.State == 'AK'))&((cust_claim.incident_cause=='Driver error')|(cust_claim.incident_cause=='Other driver error'))].shape[0])"
   ]
  },
  {
   "cell_type": "markdown",
   "id": "e44311ff",
   "metadata": {},
   "source": [
    "### 11. Draw a pie chart between the aggregated value of claim amount based on gender and segment. Represent the claim amount as a percentage on the pie chart."
   ]
  },
  {
   "cell_type": "code",
   "execution_count": 38,
   "id": "4c62da77",
   "metadata": {},
   "outputs": [
    {
     "data": {
      "text/html": [
       "<div>\n",
       "<style scoped>\n",
       "    .dataframe tbody tr th:only-of-type {\n",
       "        vertical-align: middle;\n",
       "    }\n",
       "\n",
       "    .dataframe tbody tr th {\n",
       "        vertical-align: top;\n",
       "    }\n",
       "\n",
       "    .dataframe thead th {\n",
       "        text-align: right;\n",
       "    }\n",
       "</style>\n",
       "<table border=\"1\" class=\"dataframe\">\n",
       "  <thead>\n",
       "    <tr style=\"text-align: right;\">\n",
       "      <th>gender</th>\n",
       "      <th>Female</th>\n",
       "      <th>Male</th>\n",
       "    </tr>\n",
       "    <tr>\n",
       "      <th>Segment</th>\n",
       "      <th></th>\n",
       "      <th></th>\n",
       "    </tr>\n",
       "  </thead>\n",
       "  <tbody>\n",
       "    <tr>\n",
       "      <th>Gold</th>\n",
       "      <td>2.110045e+06</td>\n",
       "      <td>2.655970e+06</td>\n",
       "    </tr>\n",
       "    <tr>\n",
       "      <th>Platinum</th>\n",
       "      <td>2.369722e+06</td>\n",
       "      <td>2.096445e+06</td>\n",
       "    </tr>\n",
       "    <tr>\n",
       "      <th>Silver</th>\n",
       "      <td>1.897545e+06</td>\n",
       "      <td>2.347134e+06</td>\n",
       "    </tr>\n",
       "  </tbody>\n",
       "</table>\n",
       "</div>"
      ],
      "text/plain": [
       "gender          Female          Male\n",
       "Segment                             \n",
       "Gold      2.110045e+06  2.655970e+06\n",
       "Platinum  2.369722e+06  2.096445e+06\n",
       "Silver    1.897545e+06  2.347134e+06"
      ]
     },
     "execution_count": 38,
     "metadata": {},
     "output_type": "execute_result"
    }
   ],
   "source": [
    "p = cust_claim.pivot_table(index = \"Segment\", columns = \"gender\", values = \"claim_amount\",aggfunc='sum')\n",
    "p"
   ]
  },
  {
   "cell_type": "code",
   "execution_count": 39,
   "id": "1af706b1",
   "metadata": {},
   "outputs": [
    {
     "data": {
      "image/png": "[encoded data removed]",
      "text/plain": [
       "<Figure size 1080x576 with 3 Axes>"
      ]
     },
     "metadata": {},
     "output_type": "display_data"
    }
   ],
   "source": [
    "p.T.plot(kind = \"pie\", subplots = True, legend = False, figsize = (15,8))\n",
    "plt.show()"
   ]
  },
  {
   "cell_type": "markdown",
   "id": "86b35f78",
   "metadata": {},
   "source": [
    "### 12. Among males and females, which gender had claimed the most for any type of driver related issues? E.g. This metric can be compared using a bar chart"
   ]
  },
  {
   "cell_type": "code",
   "execution_count": 40,
   "id": "62d2f9ad",
   "metadata": {},
   "outputs": [
    {
     "data": {
      "image/png": "[encoded data removed]",
      "text/plain": [
       "<Figure size 432x288 with 1 Axes>"
      ]
     },
     "metadata": {
      "needs_background": "light"
     },
     "output_type": "display_data"
    }
   ],
   "source": [
    "cust_claim.loc[cust_claim.incident_cause.str.lower().str.contains(\"driver\")].groupby(['gender'])[['claim_amount']].sum().plot(kind=\"bar\")\n",
    "plt.show()"
   ]
  },
  {
   "cell_type": "markdown",
   "id": "70879af5",
   "metadata": {},
   "source": [
    "### 13. Which age group had the maximum fraudulent policy claims? Visualize it on a bar chart."
   ]
  },
  {
   "cell_type": "code",
   "execution_count": 41,
   "id": "b7f41625",
   "metadata": {},
   "outputs": [
    {
     "data": {
      "image/png": "[encoded data removed]",
      "text/plain": [
       "<Figure size 432x288 with 1 Axes>"
      ]
     },
     "metadata": {
      "needs_background": "light"
     },
     "output_type": "display_data"
    }
   ],
   "source": [
    "cust_claim.groupby(['AgeGroup'])[['fraudulent']].count().plot(kind=\"bar\")\n",
    "plt.show()"
   ]
  },
  {
   "cell_type": "raw",
   "id": "958790e8",
   "metadata": {},
   "source": [
    "Clearly Adult age group have the maximum fraudulent policy claims"
   ]
  },
  {
   "cell_type": "markdown",
   "id": "064a8623",
   "metadata": {},
   "source": [
    "### 14. Visualize the monthly trend of the total amount that has been claimed  by the customers. Ensure that on the “month” axis, the month is in a chronological order not alphabetical order."
   ]
  },
  {
   "cell_type": "code",
   "execution_count": 42,
   "id": "49c5d8d3",
   "metadata": {},
   "outputs": [
    {
     "data": {
      "text/html": [
       "<div>\n",
       "<style scoped>\n",
       "    .dataframe tbody tr th:only-of-type {\n",
       "        vertical-align: middle;\n",
       "    }\n",
       "\n",
       "    .dataframe tbody tr th {\n",
       "        vertical-align: top;\n",
       "    }\n",
       "\n",
       "    .dataframe thead th {\n",
       "        text-align: right;\n",
       "    }\n",
       "</style>\n",
       "<table border=\"1\" class=\"dataframe\">\n",
       "  <thead>\n",
       "    <tr style=\"text-align: right;\">\n",
       "      <th></th>\n",
       "      <th>CUST_ID</th>\n",
       "      <th>gender</th>\n",
       "      <th>DateOfBirth</th>\n",
       "      <th>State</th>\n",
       "      <th>Contact</th>\n",
       "      <th>Segment</th>\n",
       "      <th>claim_id</th>\n",
       "      <th>incident_cause</th>\n",
       "      <th>claim_date</th>\n",
       "      <th>claim_area</th>\n",
       "      <th>claim_type</th>\n",
       "      <th>claim_amount</th>\n",
       "      <th>total_policy_claims</th>\n",
       "      <th>fraudulent</th>\n",
       "      <th>flag</th>\n",
       "      <th>AgeGroup</th>\n",
       "      <th>Month</th>\n",
       "      <th>Year</th>\n",
       "    </tr>\n",
       "  </thead>\n",
       "  <tbody>\n",
       "    <tr>\n",
       "      <th>0</th>\n",
       "      <td>74155265</td>\n",
       "      <td>Male</td>\n",
       "      <td>1985-11-16</td>\n",
       "      <td>TX</td>\n",
       "      <td>392-739-4873</td>\n",
       "      <td>Gold</td>\n",
       "      <td>25647821</td>\n",
       "      <td>Natural causes</td>\n",
       "      <td>2017-01-01</td>\n",
       "      <td>Auto</td>\n",
       "      <td>Material only</td>\n",
       "      <td>2080.0</td>\n",
       "      <td>1.0</td>\n",
       "      <td>No</td>\n",
       "      <td>0.0</td>\n",
       "      <td>Adult</td>\n",
       "      <td>January</td>\n",
       "      <td>2017</td>\n",
       "    </tr>\n",
       "    <tr>\n",
       "      <th>1</th>\n",
       "      <td>61745840</td>\n",
       "      <td>Female</td>\n",
       "      <td>1994-07-24</td>\n",
       "      <td>MA</td>\n",
       "      <td>612-684-5472</td>\n",
       "      <td>Platinum</td>\n",
       "      <td>90591192</td>\n",
       "      <td>Other driver error</td>\n",
       "      <td>2017-01-01</td>\n",
       "      <td>Home</td>\n",
       "      <td>Material and injury</td>\n",
       "      <td>30930.0</td>\n",
       "      <td>1.0</td>\n",
       "      <td>No</td>\n",
       "      <td>0.0</td>\n",
       "      <td>Youth</td>\n",
       "      <td>January</td>\n",
       "      <td>2017</td>\n",
       "    </tr>\n",
       "    <tr>\n",
       "      <th>2</th>\n",
       "      <td>65176092</td>\n",
       "      <td>Male</td>\n",
       "      <td>1975-11-23</td>\n",
       "      <td>NC</td>\n",
       "      <td>651-379-2486</td>\n",
       "      <td>Silver</td>\n",
       "      <td>9476314</td>\n",
       "      <td>Other causes</td>\n",
       "      <td>2017-01-01</td>\n",
       "      <td>Auto</td>\n",
       "      <td>Material and injury</td>\n",
       "      <td>37290.0</td>\n",
       "      <td>3.0</td>\n",
       "      <td>No</td>\n",
       "      <td>0.0</td>\n",
       "      <td>Adult</td>\n",
       "      <td>January</td>\n",
       "      <td>2017</td>\n",
       "    </tr>\n",
       "    <tr>\n",
       "      <th>3</th>\n",
       "      <td>42664554</td>\n",
       "      <td>Female</td>\n",
       "      <td>1993-08-13</td>\n",
       "      <td>TN</td>\n",
       "      <td>396-973-2531</td>\n",
       "      <td>Gold</td>\n",
       "      <td>42280334</td>\n",
       "      <td>Other causes</td>\n",
       "      <td>2017-01-01</td>\n",
       "      <td>Auto</td>\n",
       "      <td>Injury only</td>\n",
       "      <td>27670.0</td>\n",
       "      <td>1.0</td>\n",
       "      <td>No</td>\n",
       "      <td>0.0</td>\n",
       "      <td>Youth</td>\n",
       "      <td>January</td>\n",
       "      <td>2017</td>\n",
       "    </tr>\n",
       "    <tr>\n",
       "      <th>4</th>\n",
       "      <td>39587790</td>\n",
       "      <td>Male</td>\n",
       "      <td>1965-01-10</td>\n",
       "      <td>LA</td>\n",
       "      <td>615-154-3516</td>\n",
       "      <td>Gold</td>\n",
       "      <td>39131766</td>\n",
       "      <td>Other causes</td>\n",
       "      <td>2017-01-01</td>\n",
       "      <td>Auto</td>\n",
       "      <td>Material only</td>\n",
       "      <td>2967.0</td>\n",
       "      <td>1.0</td>\n",
       "      <td>Yes</td>\n",
       "      <td>0.0</td>\n",
       "      <td>Adult</td>\n",
       "      <td>January</td>\n",
       "      <td>2017</td>\n",
       "    </tr>\n",
       "  </tbody>\n",
       "</table>\n",
       "</div>"
      ],
      "text/plain": [
       "    CUST_ID  gender DateOfBirth State       Contact   Segment  claim_id  \\\n",
       "0  74155265    Male  1985-11-16    TX  392-739-4873      Gold  25647821   \n",
       "1  61745840  Female  1994-07-24    MA  612-684-5472  Platinum  90591192   \n",
       "2  65176092    Male  1975-11-23    NC  651-379-2486    Silver   9476314   \n",
       "3  42664554  Female  1993-08-13    TN  396-973-2531      Gold  42280334   \n",
       "4  39587790    Male  1965-01-10    LA  615-154-3516      Gold  39131766   \n",
       "\n",
       "       incident_cause claim_date claim_area           claim_type  \\\n",
       "0      Natural causes 2017-01-01       Auto        Material only   \n",
       "1  Other driver error 2017-01-01       Home  Material and injury   \n",
       "2        Other causes 2017-01-01       Auto  Material and injury   \n",
       "3        Other causes 2017-01-01       Auto          Injury only   \n",
       "4        Other causes 2017-01-01       Auto        Material only   \n",
       "\n",
       "   claim_amount  total_policy_claims fraudulent  flag AgeGroup    Month  Year  \n",
       "0        2080.0                  1.0         No   0.0    Adult  January  2017  \n",
       "1       30930.0                  1.0         No   0.0    Youth  January  2017  \n",
       "2       37290.0                  3.0         No   0.0    Adult  January  2017  \n",
       "3       27670.0                  1.0         No   0.0    Youth  January  2017  \n",
       "4        2967.0                  1.0        Yes   0.0    Adult  January  2017  "
      ]
     },
     "execution_count": 42,
     "metadata": {},
     "output_type": "execute_result"
    }
   ],
   "source": [
    "cust_claim['Month'] = cust_claim['claim_date'].apply(lambda x:pd.Timestamp.strftime(x,format=\"%B\"))\n",
    "cust_claim['Year'] = cust_claim['claim_date'].apply(lambda x:pd.Timestamp.strftime(x,format=\"%Y\"))\n",
    "cust_claim.head()"
   ]
  },
  {
   "cell_type": "code",
   "execution_count": 43,
   "id": "26cdce3e",
   "metadata": {},
   "outputs": [
    {
     "data": {
      "text/html": [
       "<div>\n",
       "<style scoped>\n",
       "    .dataframe tbody tr th:only-of-type {\n",
       "        vertical-align: middle;\n",
       "    }\n",
       "\n",
       "    .dataframe tbody tr th {\n",
       "        vertical-align: top;\n",
       "    }\n",
       "\n",
       "    .dataframe thead th {\n",
       "        text-align: right;\n",
       "    }\n",
       "</style>\n",
       "<table border=\"1\" class=\"dataframe\">\n",
       "  <thead>\n",
       "    <tr style=\"text-align: right;\">\n",
       "      <th></th>\n",
       "      <th>Year</th>\n",
       "      <th>Month</th>\n",
       "      <th>claim_amount</th>\n",
       "    </tr>\n",
       "  </thead>\n",
       "  <tbody>\n",
       "    <tr>\n",
       "      <th>0</th>\n",
       "      <td>2017</td>\n",
       "      <td>April</td>\n",
       "      <td>747975.726555</td>\n",
       "    </tr>\n",
       "    <tr>\n",
       "      <th>1</th>\n",
       "      <td>2017</td>\n",
       "      <td>August</td>\n",
       "      <td>431616.453110</td>\n",
       "    </tr>\n",
       "    <tr>\n",
       "      <th>2</th>\n",
       "      <td>2017</td>\n",
       "      <td>December</td>\n",
       "      <td>694252.726555</td>\n",
       "    </tr>\n",
       "    <tr>\n",
       "      <th>3</th>\n",
       "      <td>2017</td>\n",
       "      <td>February</td>\n",
       "      <td>631456.453110</td>\n",
       "    </tr>\n",
       "    <tr>\n",
       "      <th>4</th>\n",
       "      <td>2017</td>\n",
       "      <td>January</td>\n",
       "      <td>608016.179664</td>\n",
       "    </tr>\n",
       "    <tr>\n",
       "      <th>5</th>\n",
       "      <td>2017</td>\n",
       "      <td>July</td>\n",
       "      <td>790868.906219</td>\n",
       "    </tr>\n",
       "    <tr>\n",
       "      <th>6</th>\n",
       "      <td>2017</td>\n",
       "      <td>June</td>\n",
       "      <td>560143.726555</td>\n",
       "    </tr>\n",
       "    <tr>\n",
       "      <th>7</th>\n",
       "      <td>2017</td>\n",
       "      <td>March</td>\n",
       "      <td>615576.453110</td>\n",
       "    </tr>\n",
       "    <tr>\n",
       "      <th>8</th>\n",
       "      <td>2017</td>\n",
       "      <td>May</td>\n",
       "      <td>546741.679664</td>\n",
       "    </tr>\n",
       "    <tr>\n",
       "      <th>9</th>\n",
       "      <td>2017</td>\n",
       "      <td>November</td>\n",
       "      <td>601187.453110</td>\n",
       "    </tr>\n",
       "    <tr>\n",
       "      <th>10</th>\n",
       "      <td>2017</td>\n",
       "      <td>October</td>\n",
       "      <td>608989.179664</td>\n",
       "    </tr>\n",
       "    <tr>\n",
       "      <th>11</th>\n",
       "      <td>2017</td>\n",
       "      <td>September</td>\n",
       "      <td>459469.085884</td>\n",
       "    </tr>\n",
       "    <tr>\n",
       "      <th>12</th>\n",
       "      <td>2018</td>\n",
       "      <td>April</td>\n",
       "      <td>544538.226555</td>\n",
       "    </tr>\n",
       "    <tr>\n",
       "      <th>13</th>\n",
       "      <td>2018</td>\n",
       "      <td>August</td>\n",
       "      <td>479680.726555</td>\n",
       "    </tr>\n",
       "    <tr>\n",
       "      <th>14</th>\n",
       "      <td>2018</td>\n",
       "      <td>February</td>\n",
       "      <td>533085.953110</td>\n",
       "    </tr>\n",
       "    <tr>\n",
       "      <th>15</th>\n",
       "      <td>2018</td>\n",
       "      <td>January</td>\n",
       "      <td>719154.406219</td>\n",
       "    </tr>\n",
       "    <tr>\n",
       "      <th>16</th>\n",
       "      <td>2018</td>\n",
       "      <td>July</td>\n",
       "      <td>588447.132774</td>\n",
       "    </tr>\n",
       "    <tr>\n",
       "      <th>17</th>\n",
       "      <td>2018</td>\n",
       "      <td>June</td>\n",
       "      <td>718886.632774</td>\n",
       "    </tr>\n",
       "    <tr>\n",
       "      <th>18</th>\n",
       "      <td>2018</td>\n",
       "      <td>March</td>\n",
       "      <td>704673.679664</td>\n",
       "    </tr>\n",
       "    <tr>\n",
       "      <th>19</th>\n",
       "      <td>2018</td>\n",
       "      <td>May</td>\n",
       "      <td>567719.632774</td>\n",
       "    </tr>\n",
       "    <tr>\n",
       "      <th>20</th>\n",
       "      <td>2018</td>\n",
       "      <td>October</td>\n",
       "      <td>800649.632774</td>\n",
       "    </tr>\n",
       "    <tr>\n",
       "      <th>21</th>\n",
       "      <td>2018</td>\n",
       "      <td>September</td>\n",
       "      <td>523731.179664</td>\n",
       "    </tr>\n",
       "  </tbody>\n",
       "</table>\n",
       "</div>"
      ],
      "text/plain": [
       "    Year      Month   claim_amount\n",
       "0   2017      April  747975.726555\n",
       "1   2017     August  431616.453110\n",
       "2   2017   December  694252.726555\n",
       "3   2017   February  631456.453110\n",
       "4   2017    January  608016.179664\n",
       "5   2017       July  790868.906219\n",
       "6   2017       June  560143.726555\n",
       "7   2017      March  615576.453110\n",
       "8   2017        May  546741.679664\n",
       "9   2017   November  601187.453110\n",
       "10  2017    October  608989.179664\n",
       "11  2017  September  459469.085884\n",
       "12  2018      April  544538.226555\n",
       "13  2018     August  479680.726555\n",
       "14  2018   February  533085.953110\n",
       "15  2018    January  719154.406219\n",
       "16  2018       July  588447.132774\n",
       "17  2018       June  718886.632774\n",
       "18  2018      March  704673.679664\n",
       "19  2018        May  567719.632774\n",
       "20  2018    October  800649.632774\n",
       "21  2018  September  523731.179664"
      ]
     },
     "execution_count": 43,
     "metadata": {},
     "output_type": "execute_result"
    }
   ],
   "source": [
    "monthly_trend = pd.pivot_table(data = cust_claim,\n",
    "                                      index=[\"Year\",\"Month\"],\n",
    "                                      aggfunc=\"sum\",\n",
    "                                      values=\"claim_amount\").reset_index()\n",
    "monthly_trend"
   ]
  },
  {
   "cell_type": "code",
   "execution_count": 44,
   "id": "f625e411",
   "metadata": {},
   "outputs": [],
   "source": [
    "monthly_trend_1= monthly_trend[monthly_trend.Year=='2017']\n",
    "monthly_trend_2= monthly_trend[monthly_trend.Year=='2018']"
   ]
  },
  {
   "cell_type": "code",
   "execution_count": 45,
   "id": "be197f18",
   "metadata": {},
   "outputs": [],
   "source": [
    "order=['January','February','March','April','May','June','July',\n",
    "       'August','September','October','November','December']"
   ]
  },
  {
   "cell_type": "code",
   "execution_count": 46,
   "id": "100217a9",
   "metadata": {},
   "outputs": [],
   "source": [
    "monthly_trend_1.index = pd.CategoricalIndex(data = monthly_trend_1.Month,\n",
    "                                            categories = order,\n",
    "                                            ordered = True)\n",
    "monthly_trend_1 = monthly_trend_1.sort_index()\n",
    "monthly_trend_1.drop(columns = [\"Year\"], inplace = True)"
   ]
  },
  {
   "cell_type": "code",
   "execution_count": 47,
   "id": "c3a2bfa1",
   "metadata": {},
   "outputs": [],
   "source": [
    "monthly_trend_2.index = pd.CategoricalIndex(data = monthly_trend_2.Month, \n",
    "                                            categories = order, \n",
    "                                            ordered = True)\n",
    "monthly_trend_2 = monthly_trend_2.sort_index()\n",
    "monthly_trend_2.drop(columns = [\"Year\"], inplace = True)"
   ]
  },
  {
   "cell_type": "code",
   "execution_count": 48,
   "id": "1ee384bb",
   "metadata": {},
   "outputs": [
    {
     "data": {
      "image/png": "[encoded data removed]",
      "text/plain": [
       "<Figure size 432x288 with 1 Axes>"
      ]
     },
     "metadata": {
      "needs_background": "light"
     },
     "output_type": "display_data"
    }
   ],
   "source": [
    "monthly_trend_1.plot(kind='bar')\n",
    "plt.ylabel(\"Claim Amount\")\n",
    "plt.title(\"Total amount that has been claimed by customers in year 2017\")\n",
    "plt.show()"
   ]
  },
  {
   "cell_type": "code",
   "execution_count": 49,
   "id": "aaa18b8b",
   "metadata": {},
   "outputs": [
    {
     "data": {
      "image/png": "[encoded data removed]",
      "text/plain": [
       "<Figure size 432x288 with 1 Axes>"
      ]
     },
     "metadata": {
      "needs_background": "light"
     },
     "output_type": "display_data"
    }
   ],
   "source": [
    "monthly_trend_2.plot(kind='bar')\n",
    "plt.ylabel(\"Claim Amount\")\n",
    "plt.title(\"Total amount that has been claimed by customers in year 2018\")\n",
    "plt.show()"
   ]
  },
  {
   "cell_type": "markdown",
   "id": "1e422379",
   "metadata": {},
   "source": [
    "### 15. What is the average claim amount for gender and age categories and suitably represent the above using a facetted bar chart, one facet that represents fraudulent claims and the other for non-fraudulent claims."
   ]
  },
  {
   "cell_type": "code",
   "execution_count": 50,
   "id": "c271f55e",
   "metadata": {
    "scrolled": true
   },
   "outputs": [
    {
     "data": {
      "image/png": "[encoded data removed]",
      "text/plain": [
       "<Figure size 432x288 with 1 Axes>"
      ]
     },
     "metadata": {
      "needs_background": "light"
     },
     "output_type": "display_data"
    }
   ],
   "source": [
    "cust_claim.pivot_table(index = ['gender','AgeGroup'],\n",
    "                       columns = 'fraudulent', \n",
    "                       values = 'claim_amount', \n",
    "                       aggfunc= 'mean').plot.bar()\n",
    "plt.show()"
   ]
  },
  {
   "cell_type": "markdown",
   "id": "f7d56624",
   "metadata": {},
   "source": [
    "## Based on the conclusions from exploratory analysis as well as suitable statistical tests, answer the below questions. Please include a detailed write-up on the parameters taken into consideration, the Hypothesis testing steps, conclusion from the p-values and the business implications of the statements. "
   ]
  },
  {
   "cell_type": "code",
   "execution_count": 51,
   "id": "cf541391",
   "metadata": {},
   "outputs": [],
   "source": [
    "import scipy.stats as stats"
   ]
  },
  {
   "cell_type": "markdown",
   "id": "b0695f14",
   "metadata": {},
   "source": [
    "### 16. Is there any similarity in the amount claimed by males and females?"
   ]
  },
  {
   "cell_type": "code",
   "execution_count": 52,
   "id": "d957144a",
   "metadata": {},
   "outputs": [],
   "source": [
    "males_claim=cust_claim.loc[cust_claim.gender=='Male',['claim_amount']]\n",
    "females_claim=cust_claim.loc[cust_claim.gender=='Female',['claim_amount']]"
   ]
  },
  {
   "cell_type": "raw",
   "id": "f5932784",
   "metadata": {},
   "source": [
    "Ho = There is no difference between male and female claim amount\n",
    "    U(male) = U(female)\n",
    "Ha = There is a difference between male and female claim\n",
    "    U(male) <> U(female)\n",
    "    \n",
    "CI= 95%\n",
    "p=0.05"
   ]
  },
  {
   "cell_type": "code",
   "execution_count": 53,
   "id": "74dc0a2e",
   "metadata": {},
   "outputs": [
    {
     "data": {
      "text/plain": [
       "F_onewayResult(statistic=array([0.92642424]), pvalue=array([0.33601006]))"
      ]
     },
     "execution_count": 53,
     "metadata": {},
     "output_type": "execute_result"
    }
   ],
   "source": [
    "stats.f_oneway( males_claim , females_claim )"
   ]
  },
  {
   "cell_type": "raw",
   "id": "217f2678",
   "metadata": {},
   "source": [
    "We reject the null hypothesis\n",
    "Business conclusion:\n",
    "    There is a difference between male and female claim amount."
   ]
  },
  {
   "cell_type": "markdown",
   "id": "7f2a224b",
   "metadata": {},
   "source": [
    "### 17. Is there any relationship between age category and segment?"
   ]
  },
  {
   "cell_type": "raw",
   "id": "bf3a8933",
   "metadata": {},
   "source": [
    "H0 - There is no relationship between age category and segment\n",
    "Ha - There is a relationship among the variables\n",
    "\n",
    "CI - 95%\n",
    "p - 0.05"
   ]
  },
  {
   "cell_type": "code",
   "execution_count": 54,
   "id": "8d464b57",
   "metadata": {
    "scrolled": true
   },
   "outputs": [
    {
     "data": {
      "text/html": [
       "<div>\n",
       "<style scoped>\n",
       "    .dataframe tbody tr th:only-of-type {\n",
       "        vertical-align: middle;\n",
       "    }\n",
       "\n",
       "    .dataframe tbody tr th {\n",
       "        vertical-align: top;\n",
       "    }\n",
       "\n",
       "    .dataframe thead th {\n",
       "        text-align: right;\n",
       "    }\n",
       "</style>\n",
       "<table border=\"1\" class=\"dataframe\">\n",
       "  <thead>\n",
       "    <tr style=\"text-align: right;\">\n",
       "      <th></th>\n",
       "      <th>CUST_ID</th>\n",
       "      <th>gender</th>\n",
       "      <th>DateOfBirth</th>\n",
       "      <th>State</th>\n",
       "      <th>Contact</th>\n",
       "      <th>Segment</th>\n",
       "      <th>claim_id</th>\n",
       "      <th>incident_cause</th>\n",
       "      <th>claim_date</th>\n",
       "      <th>claim_area</th>\n",
       "      <th>claim_type</th>\n",
       "      <th>claim_amount</th>\n",
       "      <th>total_policy_claims</th>\n",
       "      <th>fraudulent</th>\n",
       "      <th>flag</th>\n",
       "      <th>AgeGroup</th>\n",
       "      <th>Month</th>\n",
       "      <th>Year</th>\n",
       "    </tr>\n",
       "  </thead>\n",
       "  <tbody>\n",
       "    <tr>\n",
       "      <th>0</th>\n",
       "      <td>74155265</td>\n",
       "      <td>Male</td>\n",
       "      <td>1985-11-16</td>\n",
       "      <td>TX</td>\n",
       "      <td>392-739-4873</td>\n",
       "      <td>Gold</td>\n",
       "      <td>25647821</td>\n",
       "      <td>Natural causes</td>\n",
       "      <td>2017-01-01</td>\n",
       "      <td>Auto</td>\n",
       "      <td>Material only</td>\n",
       "      <td>2080.0</td>\n",
       "      <td>1.0</td>\n",
       "      <td>No</td>\n",
       "      <td>0.0</td>\n",
       "      <td>Adult</td>\n",
       "      <td>January</td>\n",
       "      <td>2017</td>\n",
       "    </tr>\n",
       "    <tr>\n",
       "      <th>1</th>\n",
       "      <td>61745840</td>\n",
       "      <td>Female</td>\n",
       "      <td>1994-07-24</td>\n",
       "      <td>MA</td>\n",
       "      <td>612-684-5472</td>\n",
       "      <td>Platinum</td>\n",
       "      <td>90591192</td>\n",
       "      <td>Other driver error</td>\n",
       "      <td>2017-01-01</td>\n",
       "      <td>Home</td>\n",
       "      <td>Material and injury</td>\n",
       "      <td>30930.0</td>\n",
       "      <td>1.0</td>\n",
       "      <td>No</td>\n",
       "      <td>0.0</td>\n",
       "      <td>Youth</td>\n",
       "      <td>January</td>\n",
       "      <td>2017</td>\n",
       "    </tr>\n",
       "    <tr>\n",
       "      <th>2</th>\n",
       "      <td>65176092</td>\n",
       "      <td>Male</td>\n",
       "      <td>1975-11-23</td>\n",
       "      <td>NC</td>\n",
       "      <td>651-379-2486</td>\n",
       "      <td>Silver</td>\n",
       "      <td>9476314</td>\n",
       "      <td>Other causes</td>\n",
       "      <td>2017-01-01</td>\n",
       "      <td>Auto</td>\n",
       "      <td>Material and injury</td>\n",
       "      <td>37290.0</td>\n",
       "      <td>3.0</td>\n",
       "      <td>No</td>\n",
       "      <td>0.0</td>\n",
       "      <td>Adult</td>\n",
       "      <td>January</td>\n",
       "      <td>2017</td>\n",
       "    </tr>\n",
       "    <tr>\n",
       "      <th>3</th>\n",
       "      <td>42664554</td>\n",
       "      <td>Female</td>\n",
       "      <td>1993-08-13</td>\n",
       "      <td>TN</td>\n",
       "      <td>396-973-2531</td>\n",
       "      <td>Gold</td>\n",
       "      <td>42280334</td>\n",
       "      <td>Other causes</td>\n",
       "      <td>2017-01-01</td>\n",
       "      <td>Auto</td>\n",
       "      <td>Injury only</td>\n",
       "      <td>27670.0</td>\n",
       "      <td>1.0</td>\n",
       "      <td>No</td>\n",
       "      <td>0.0</td>\n",
       "      <td>Youth</td>\n",
       "      <td>January</td>\n",
       "      <td>2017</td>\n",
       "    </tr>\n",
       "    <tr>\n",
       "      <th>4</th>\n",
       "      <td>39587790</td>\n",
       "      <td>Male</td>\n",
       "      <td>1965-01-10</td>\n",
       "      <td>LA</td>\n",
       "      <td>615-154-3516</td>\n",
       "      <td>Gold</td>\n",
       "      <td>39131766</td>\n",
       "      <td>Other causes</td>\n",
       "      <td>2017-01-01</td>\n",
       "      <td>Auto</td>\n",
       "      <td>Material only</td>\n",
       "      <td>2967.0</td>\n",
       "      <td>1.0</td>\n",
       "      <td>Yes</td>\n",
       "      <td>0.0</td>\n",
       "      <td>Adult</td>\n",
       "      <td>January</td>\n",
       "      <td>2017</td>\n",
       "    </tr>\n",
       "  </tbody>\n",
       "</table>\n",
       "</div>"
      ],
      "text/plain": [
       "    CUST_ID  gender DateOfBirth State       Contact   Segment  claim_id  \\\n",
       "0  74155265    Male  1985-11-16    TX  392-739-4873      Gold  25647821   \n",
       "1  61745840  Female  1994-07-24    MA  612-684-5472  Platinum  90591192   \n",
       "2  65176092    Male  1975-11-23    NC  651-379-2486    Silver   9476314   \n",
       "3  42664554  Female  1993-08-13    TN  396-973-2531      Gold  42280334   \n",
       "4  39587790    Male  1965-01-10    LA  615-154-3516      Gold  39131766   \n",
       "\n",
       "       incident_cause claim_date claim_area           claim_type  \\\n",
       "0      Natural causes 2017-01-01       Auto        Material only   \n",
       "1  Other driver error 2017-01-01       Home  Material and injury   \n",
       "2        Other causes 2017-01-01       Auto  Material and injury   \n",
       "3        Other causes 2017-01-01       Auto          Injury only   \n",
       "4        Other causes 2017-01-01       Auto        Material only   \n",
       "\n",
       "   claim_amount  total_policy_claims fraudulent  flag AgeGroup    Month  Year  \n",
       "0        2080.0                  1.0         No   0.0    Adult  January  2017  \n",
       "1       30930.0                  1.0         No   0.0    Youth  January  2017  \n",
       "2       37290.0                  3.0         No   0.0    Adult  January  2017  \n",
       "3       27670.0                  1.0         No   0.0    Youth  January  2017  \n",
       "4        2967.0                  1.0        Yes   0.0    Adult  January  2017  "
      ]
     },
     "execution_count": 54,
     "metadata": {},
     "output_type": "execute_result"
    }
   ],
   "source": [
    "cust_claim.head()"
   ]
  },
  {
   "cell_type": "code",
   "execution_count": 55,
   "id": "a79e4e72",
   "metadata": {},
   "outputs": [
    {
     "data": {
      "text/plain": [
       "3"
      ]
     },
     "execution_count": 55,
     "metadata": {},
     "output_type": "execute_result"
    }
   ],
   "source": [
    "cust_claim.AgeGroup.nunique()"
   ]
  },
  {
   "cell_type": "code",
   "execution_count": 56,
   "id": "baaaf035",
   "metadata": {},
   "outputs": [
    {
     "data": {
      "text/html": [
       "<div>\n",
       "<style scoped>\n",
       "    .dataframe tbody tr th:only-of-type {\n",
       "        vertical-align: middle;\n",
       "    }\n",
       "\n",
       "    .dataframe tbody tr th {\n",
       "        vertical-align: top;\n",
       "    }\n",
       "\n",
       "    .dataframe thead th {\n",
       "        text-align: right;\n",
       "    }\n",
       "</style>\n",
       "<table border=\"1\" class=\"dataframe\">\n",
       "  <thead>\n",
       "    <tr style=\"text-align: right;\">\n",
       "      <th>AgeGroup</th>\n",
       "      <th>Children</th>\n",
       "      <th>Youth</th>\n",
       "      <th>Adult</th>\n",
       "      <th>Senior</th>\n",
       "    </tr>\n",
       "    <tr>\n",
       "      <th>Segment</th>\n",
       "      <th></th>\n",
       "      <th></th>\n",
       "      <th></th>\n",
       "      <th></th>\n",
       "    </tr>\n",
       "  </thead>\n",
       "  <tbody>\n",
       "    <tr>\n",
       "      <th>Gold</th>\n",
       "      <td>0</td>\n",
       "      <td>72</td>\n",
       "      <td>273</td>\n",
       "      <td>26</td>\n",
       "    </tr>\n",
       "    <tr>\n",
       "      <th>Platinum</th>\n",
       "      <td>0</td>\n",
       "      <td>71</td>\n",
       "      <td>269</td>\n",
       "      <td>21</td>\n",
       "    </tr>\n",
       "    <tr>\n",
       "      <th>Silver</th>\n",
       "      <td>0</td>\n",
       "      <td>73</td>\n",
       "      <td>255</td>\n",
       "      <td>18</td>\n",
       "    </tr>\n",
       "  </tbody>\n",
       "</table>\n",
       "</div>"
      ],
      "text/plain": [
       "AgeGroup  Children  Youth  Adult  Senior\n",
       "Segment                                 \n",
       "Gold             0     72    273      26\n",
       "Platinum         0     71    269      21\n",
       "Silver           0     73    255      18"
      ]
     },
     "execution_count": 56,
     "metadata": {},
     "output_type": "execute_result"
    }
   ],
   "source": [
    "obs_freq =pd.crosstab( index=cust_claim.Segment, \n",
    "            columns=cust_claim.AgeGroup,\n",
    "            values=cust_claim.claim_id,\n",
    "            aggfunc='count')\n",
    "obs_freq"
   ]
  },
  {
   "cell_type": "code",
   "execution_count": 57,
   "id": "7d95286d",
   "metadata": {},
   "outputs": [],
   "source": [
    "obs_freq.drop(columns='Children',inplace=True)"
   ]
  },
  {
   "cell_type": "code",
   "execution_count": 58,
   "id": "67a58127",
   "metadata": {},
   "outputs": [
    {
     "data": {
      "text/plain": [
       "0.8568479067926504"
      ]
     },
     "execution_count": 58,
     "metadata": {},
     "output_type": "execute_result"
    }
   ],
   "source": [
    "a, p_value, b, c = stats.chi2_contingency( obs_freq )\n",
    "p_value"
   ]
  },
  {
   "cell_type": "markdown",
   "id": "64b95e1c",
   "metadata": {},
   "source": [
    "Since p-value is very High than p_cutoff, we fail to reject the null hypothesis \n",
    "Business conclusion: There is no relationship among the variables."
   ]
  },
  {
   "cell_type": "markdown",
   "id": "4f2e090c",
   "metadata": {},
   "source": [
    "### 18. The current year has shown a significant rise in claim amounts as compared to 2016-17 fiscal average which was $10,000."
   ]
  },
  {
   "cell_type": "raw",
   "id": "45d02b77",
   "metadata": {},
   "source": [
    "H0 - u <= 10000\n",
    "Ha - u > 10000\n",
    "u- current year average \n",
    "\n",
    "CI - 95%\n",
    "p - 0.05"
   ]
  },
  {
   "cell_type": "code",
   "execution_count": 59,
   "id": "0ce52083",
   "metadata": {
    "scrolled": true
   },
   "outputs": [
    {
     "data": {
      "text/plain": [
       "Ttest_1sampResult(statistic=6.146897188063232, pvalue=1.111087909732772e-09)"
      ]
     },
     "execution_count": 59,
     "metadata": {},
     "output_type": "execute_result"
    }
   ],
   "source": [
    "stats.ttest_1samp(cust_claim.claim_amount , 10000 )"
   ]
  },
  {
   "cell_type": "raw",
   "id": "e7ece621",
   "metadata": {},
   "source": [
    "Since p-value is lower than p_cutoff, we reject the null hypothesis.\n",
    "ie. the statement is true."
   ]
  },
  {
   "cell_type": "markdown",
   "id": "d141c24d",
   "metadata": {},
   "source": [
    "### 19. Is there any difference between age groups and insurance claims?"
   ]
  },
  {
   "cell_type": "raw",
   "id": "7cb2b0b0",
   "metadata": {},
   "source": [
    "H0: Insurance claims does not varies for different age groups\n",
    "Ha: Insurance claims varies for different age groups\n",
    "\n",
    "CI: 95%\n",
    "p cut off: 0.05"
   ]
  },
  {
   "cell_type": "code",
   "execution_count": 60,
   "id": "be341a73",
   "metadata": {},
   "outputs": [],
   "source": [
    "Youth= cust_claim.loc[cust_claim.AgeGroup=='Youth' , 'claim_amount']\n",
    "Adult= cust_claim.loc[cust_claim.AgeGroup=='Adult' , 'claim_amount']\n",
    "Senior= cust_claim.loc[cust_claim.AgeGroup=='Senior' , 'claim_amount']"
   ]
  },
  {
   "cell_type": "code",
   "execution_count": 61,
   "id": "0dc7cf23",
   "metadata": {},
   "outputs": [
    {
     "data": {
      "text/plain": [
       "F_onewayResult(statistic=0.1809227181228129, pvalue=0.8345252525660977)"
      ]
     },
     "execution_count": 61,
     "metadata": {},
     "output_type": "execute_result"
    }
   ],
   "source": [
    "stats.f_oneway( Youth,Adult,Senior )"
   ]
  },
  {
   "cell_type": "raw",
   "id": "f164d805",
   "metadata": {},
   "source": [
    "We reject the NUll hypothesis\n",
    "ie \n",
    "    Insurance claims varies for different age groups"
   ]
  },
  {
   "cell_type": "markdown",
   "id": "d526f72b",
   "metadata": {},
   "source": [
    "### 20. Is there any relationship between total number of policy claims and the claimed amount?"
   ]
  },
  {
   "cell_type": "raw",
   "id": "6f9277d5",
   "metadata": {},
   "source": [
    "H0 - There is no relationship between total number of policy claims and claimed amount\n",
    "Ha - There is a relationship among them\n",
    "\n",
    "CI - 95%\n",
    "p - 0.05"
   ]
  },
  {
   "cell_type": "code",
   "execution_count": 62,
   "id": "39fd7ff5",
   "metadata": {},
   "outputs": [
    {
     "data": {
      "text/html": [
       "<div>\n",
       "<style scoped>\n",
       "    .dataframe tbody tr th:only-of-type {\n",
       "        vertical-align: middle;\n",
       "    }\n",
       "\n",
       "    .dataframe tbody tr th {\n",
       "        vertical-align: top;\n",
       "    }\n",
       "\n",
       "    .dataframe thead th {\n",
       "        text-align: right;\n",
       "    }\n",
       "</style>\n",
       "<table border=\"1\" class=\"dataframe\">\n",
       "  <thead>\n",
       "    <tr style=\"text-align: right;\">\n",
       "      <th></th>\n",
       "      <th>CUST_ID</th>\n",
       "      <th>gender</th>\n",
       "      <th>DateOfBirth</th>\n",
       "      <th>State</th>\n",
       "      <th>Contact</th>\n",
       "      <th>Segment</th>\n",
       "      <th>claim_id</th>\n",
       "      <th>incident_cause</th>\n",
       "      <th>claim_date</th>\n",
       "      <th>claim_area</th>\n",
       "      <th>claim_type</th>\n",
       "      <th>claim_amount</th>\n",
       "      <th>total_policy_claims</th>\n",
       "      <th>fraudulent</th>\n",
       "      <th>flag</th>\n",
       "      <th>AgeGroup</th>\n",
       "      <th>Month</th>\n",
       "      <th>Year</th>\n",
       "    </tr>\n",
       "  </thead>\n",
       "  <tbody>\n",
       "    <tr>\n",
       "      <th>0</th>\n",
       "      <td>74155265</td>\n",
       "      <td>Male</td>\n",
       "      <td>1985-11-16</td>\n",
       "      <td>TX</td>\n",
       "      <td>392-739-4873</td>\n",
       "      <td>Gold</td>\n",
       "      <td>25647821</td>\n",
       "      <td>Natural causes</td>\n",
       "      <td>2017-01-01</td>\n",
       "      <td>Auto</td>\n",
       "      <td>Material only</td>\n",
       "      <td>2080.0</td>\n",
       "      <td>1.0</td>\n",
       "      <td>No</td>\n",
       "      <td>0.0</td>\n",
       "      <td>Adult</td>\n",
       "      <td>January</td>\n",
       "      <td>2017</td>\n",
       "    </tr>\n",
       "    <tr>\n",
       "      <th>1</th>\n",
       "      <td>61745840</td>\n",
       "      <td>Female</td>\n",
       "      <td>1994-07-24</td>\n",
       "      <td>MA</td>\n",
       "      <td>612-684-5472</td>\n",
       "      <td>Platinum</td>\n",
       "      <td>90591192</td>\n",
       "      <td>Other driver error</td>\n",
       "      <td>2017-01-01</td>\n",
       "      <td>Home</td>\n",
       "      <td>Material and injury</td>\n",
       "      <td>30930.0</td>\n",
       "      <td>1.0</td>\n",
       "      <td>No</td>\n",
       "      <td>0.0</td>\n",
       "      <td>Youth</td>\n",
       "      <td>January</td>\n",
       "      <td>2017</td>\n",
       "    </tr>\n",
       "    <tr>\n",
       "      <th>2</th>\n",
       "      <td>65176092</td>\n",
       "      <td>Male</td>\n",
       "      <td>1975-11-23</td>\n",
       "      <td>NC</td>\n",
       "      <td>651-379-2486</td>\n",
       "      <td>Silver</td>\n",
       "      <td>9476314</td>\n",
       "      <td>Other causes</td>\n",
       "      <td>2017-01-01</td>\n",
       "      <td>Auto</td>\n",
       "      <td>Material and injury</td>\n",
       "      <td>37290.0</td>\n",
       "      <td>3.0</td>\n",
       "      <td>No</td>\n",
       "      <td>0.0</td>\n",
       "      <td>Adult</td>\n",
       "      <td>January</td>\n",
       "      <td>2017</td>\n",
       "    </tr>\n",
       "    <tr>\n",
       "      <th>3</th>\n",
       "      <td>42664554</td>\n",
       "      <td>Female</td>\n",
       "      <td>1993-08-13</td>\n",
       "      <td>TN</td>\n",
       "      <td>396-973-2531</td>\n",
       "      <td>Gold</td>\n",
       "      <td>42280334</td>\n",
       "      <td>Other causes</td>\n",
       "      <td>2017-01-01</td>\n",
       "      <td>Auto</td>\n",
       "      <td>Injury only</td>\n",
       "      <td>27670.0</td>\n",
       "      <td>1.0</td>\n",
       "      <td>No</td>\n",
       "      <td>0.0</td>\n",
       "      <td>Youth</td>\n",
       "      <td>January</td>\n",
       "      <td>2017</td>\n",
       "    </tr>\n",
       "    <tr>\n",
       "      <th>4</th>\n",
       "      <td>39587790</td>\n",
       "      <td>Male</td>\n",
       "      <td>1965-01-10</td>\n",
       "      <td>LA</td>\n",
       "      <td>615-154-3516</td>\n",
       "      <td>Gold</td>\n",
       "      <td>39131766</td>\n",
       "      <td>Other causes</td>\n",
       "      <td>2017-01-01</td>\n",
       "      <td>Auto</td>\n",
       "      <td>Material only</td>\n",
       "      <td>2967.0</td>\n",
       "      <td>1.0</td>\n",
       "      <td>Yes</td>\n",
       "      <td>0.0</td>\n",
       "      <td>Adult</td>\n",
       "      <td>January</td>\n",
       "      <td>2017</td>\n",
       "    </tr>\n",
       "  </tbody>\n",
       "</table>\n",
       "</div>"
      ],
      "text/plain": [
       "    CUST_ID  gender DateOfBirth State       Contact   Segment  claim_id  \\\n",
       "0  74155265    Male  1985-11-16    TX  392-739-4873      Gold  25647821   \n",
       "1  61745840  Female  1994-07-24    MA  612-684-5472  Platinum  90591192   \n",
       "2  65176092    Male  1975-11-23    NC  651-379-2486    Silver   9476314   \n",
       "3  42664554  Female  1993-08-13    TN  396-973-2531      Gold  42280334   \n",
       "4  39587790    Male  1965-01-10    LA  615-154-3516      Gold  39131766   \n",
       "\n",
       "       incident_cause claim_date claim_area           claim_type  \\\n",
       "0      Natural causes 2017-01-01       Auto        Material only   \n",
       "1  Other driver error 2017-01-01       Home  Material and injury   \n",
       "2        Other causes 2017-01-01       Auto  Material and injury   \n",
       "3        Other causes 2017-01-01       Auto          Injury only   \n",
       "4        Other causes 2017-01-01       Auto        Material only   \n",
       "\n",
       "   claim_amount  total_policy_claims fraudulent  flag AgeGroup    Month  Year  \n",
       "0        2080.0                  1.0         No   0.0    Adult  January  2017  \n",
       "1       30930.0                  1.0         No   0.0    Youth  January  2017  \n",
       "2       37290.0                  3.0         No   0.0    Adult  January  2017  \n",
       "3       27670.0                  1.0         No   0.0    Youth  January  2017  \n",
       "4        2967.0                  1.0        Yes   0.0    Adult  January  2017  "
      ]
     },
     "execution_count": 62,
     "metadata": {},
     "output_type": "execute_result"
    }
   ],
   "source": [
    "cust_claim.head()"
   ]
  },
  {
   "cell_type": "code",
   "execution_count": 63,
   "id": "6321003a",
   "metadata": {},
   "outputs": [
    {
     "data": {
      "text/plain": [
       "(-0.02240156677762884, 0.4624932766041524)"
      ]
     },
     "execution_count": 63,
     "metadata": {},
     "output_type": "execute_result"
    }
   ],
   "source": [
    "stats.pearsonr( cust_claim.total_policy_claims, cust_claim.claim_amount )"
   ]
  },
  {
   "cell_type": "raw",
   "id": "bbd5214f",
   "metadata": {},
   "source": [
    "Since the p value is more than the p cutoff, we fail to reject the NULL hypothesis.\n",
    "ie.\n",
    "There is no relationship between total number of policy claims and claimed amount"
   ]
  }
 ],
 "metadata": {
  "kernelspec": {
   "display_name": "Python 3",
   "language": "python",
   "name": "python3"
  },
  "language_info": {
   "codemirror_mode": {
    "name": "ipython",
    "version": 3
   },
   "file_extension": ".py",
   "mimetype": "text/x-python",
   "name": "python",
   "nbconvert_exporter": "python",
   "pygments_lexer": "ipython3",
   "version": "3.8.8"
  }
 },
 "nbformat": 4,
 "nbformat_minor": 5
}
